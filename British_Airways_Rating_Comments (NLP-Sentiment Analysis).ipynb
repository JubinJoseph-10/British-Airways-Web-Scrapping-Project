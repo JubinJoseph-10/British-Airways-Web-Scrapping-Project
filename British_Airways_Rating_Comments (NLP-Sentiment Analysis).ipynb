{
 "cells": [
  {
   "cell_type": "code",
   "execution_count": 1,
   "id": "ecf9d26a",
   "metadata": {},
   "outputs": [
    {
     "name": "stdout",
     "output_type": "stream",
     "text": [
      "Requirement already satisfied: beautifulsoup4 in c:\\users\\jubin\\ananew\\lib\\site-packages (4.11.1)\n",
      "Requirement already satisfied: soupsieve>1.2 in c:\\users\\jubin\\ananew\\lib\\site-packages (from beautifulsoup4) (2.3.1)\n",
      "Requirement already satisfied: requests in c:\\users\\jubin\\ananew\\lib\\site-packages (2.28.1)\n",
      "Requirement already satisfied: urllib3<1.27,>=1.21.1 in c:\\users\\jubin\\ananew\\lib\\site-packages (from requests) (1.26.11)\n",
      "Requirement already satisfied: certifi>=2017.4.17 in c:\\users\\jubin\\ananew\\lib\\site-packages (from requests) (2022.9.14)\n",
      "Requirement already satisfied: charset-normalizer<3,>=2 in c:\\users\\jubin\\ananew\\lib\\site-packages (from requests) (2.0.4)\n",
      "Requirement already satisfied: idna<4,>=2.5 in c:\\users\\jubin\\ananew\\lib\\site-packages (from requests) (3.3)\n"
     ]
    }
   ],
   "source": [
    "#Installing Beautiful Soap, for Webscrapping\n",
    "!pip install beautifulsoup4\n",
    "!pip install requests"
   ]
  },
  {
   "cell_type": "code",
   "execution_count": 2,
   "id": "daa348eb",
   "metadata": {},
   "outputs": [],
   "source": [
    "#Importing Libraries\n",
    "from bs4 import BeautifulSoup\n",
    "import requests,openpyxl\n",
    "import pandas as pd\n",
    "import numpy as np"
   ]
  },
  {
   "cell_type": "code",
   "execution_count": 3,
   "id": "2febbb96",
   "metadata": {},
   "outputs": [],
   "source": [
    "#Creating a variable with the source code of the website and checing it\n",
    "#Putting the same in a try and except block for errors\n",
    "\n",
    "try:\n",
    "    source = requests.get('https://www.airlinequality.com/airline-reviews/british-airways/?sortby=post_date%3ADesc&pagesize=3537')\n",
    "    source.raise_for_status()\n",
    "    \n",
    "    soup=BeautifulSoup(source.text,'html.parser')\n",
    "    ratings = soup.find('article', class_='comp comp_reviews-airline querylist position-content').find_all('article')\n",
    "     \n",
    "\n",
    "except Exception as e:\n",
    "    print(e)"
   ]
  },
  {
   "cell_type": "code",
   "execution_count": 11,
   "id": "37d30898",
   "metadata": {},
   "outputs": [],
   "source": [
    "#creating an empty list where all the commenst will be appedned\n",
    "comments=[]\n",
    "\n",
    "#scrappin comments from the website\n",
    "for rating in ratings:\n",
    "    comm=rating.find('div', class_='text_content').text\n",
    "    try:\n",
    "        comment=comm[comm.index('|')+2:]\n",
    "        comments.append(comment)\n",
    "    except:\n",
    "        comment=comm\n",
    "        comments.append(comment)"
   ]
  },
  {
   "cell_type": "code",
   "execution_count": 7,
   "id": "cd7d1652",
   "metadata": {},
   "outputs": [],
   "source": [
    "#creating a dataframe with the required comments\n",
    "Comments_British_Airways=pd.DataFrame(list(comments),columns=['comments'])"
   ]
  },
  {
   "cell_type": "code",
   "execution_count": 10,
   "id": "997e1d17",
   "metadata": {},
   "outputs": [],
   "source": [
    "#exporting the data as a CSV file\n",
    "Comments_British_Airways.to_csv(r'C:\\Users\\jubin\\OneDrive\\Desktop\\Models\\British_Airways_Project\\Web_Scrapper\\Data\\British_Airways_Comments_Data.csv', index=False)"
   ]
  },
  {
   "cell_type": "code",
   "execution_count": null,
   "id": "9246655f",
   "metadata": {},
   "outputs": [],
   "source": []
  }
 ],
 "metadata": {
  "kernelspec": {
   "display_name": "Python 3 (ipykernel)",
   "language": "python",
   "name": "python3"
  },
  "language_info": {
   "codemirror_mode": {
    "name": "ipython",
    "version": 3
   },
   "file_extension": ".py",
   "mimetype": "text/x-python",
   "name": "python",
   "nbconvert_exporter": "python",
   "pygments_lexer": "ipython3",
   "version": "3.9.13"
  }
 },
 "nbformat": 4,
 "nbformat_minor": 5
}
