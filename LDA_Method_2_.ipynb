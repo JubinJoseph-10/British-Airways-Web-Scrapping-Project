{
  "nbformat": 4,
  "nbformat_minor": 0,
  "metadata": {
    "colab": {
      "provenance": [],
      "collapsed_sections": [
        "ZPitiQPlgRZY"
      ]
    },
    "kernelspec": {
      "name": "python3",
      "display_name": "Python 3"
    },
    "language_info": {
      "name": "python"
    }
  },
  "cells": [
    {
      "cell_type": "markdown",
      "source": [
        "#importing Libs"
      ],
      "metadata": {
        "id": "ZPitiQPlgRZY"
      }
    },
    {
      "cell_type": "code",
      "execution_count": 1,
      "metadata": {
        "id": "LeFRz4lFgF_B"
      },
      "outputs": [],
      "source": [
        "import os"
      ]
    },
    {
      "cell_type": "code",
      "source": [
        "!pip install h5py\n",
        "!pip install typing-extensions\n",
        "!pip install wheel"
      ],
      "metadata": {
        "colab": {
          "base_uri": "https://localhost:8080/"
        },
        "id": "5f69E6pRgXc2",
        "outputId": "5993b11e-a5df-4ae6-eefb-6a48588ea8b7"
      },
      "execution_count": 2,
      "outputs": [
        {
          "output_type": "stream",
          "name": "stderr",
          "text": [
            "/usr/local/lib/python3.10/dist-packages/ipykernel/ipkernel.py:283: DeprecationWarning: `should_run_async` will not call `transform_cell` automatically in the future. Please pass the result to `transformed_cell` argument and any exception that happen during thetransform in `preprocessing_exc_tuple` in IPython 7.17 and above.\n",
            "  and should_run_async(code)\n"
          ]
        },
        {
          "output_type": "stream",
          "name": "stdout",
          "text": [
            "Looking in indexes: https://pypi.org/simple, https://us-python.pkg.dev/colab-wheels/public/simple/\n",
            "Requirement already satisfied: h5py in /usr/local/lib/python3.10/dist-packages (3.8.0)\n",
            "Requirement already satisfied: numpy>=1.14.5 in /usr/local/lib/python3.10/dist-packages (from h5py) (1.24.3)\n",
            "Looking in indexes: https://pypi.org/simple, https://us-python.pkg.dev/colab-wheels/public/simple/\n",
            "Requirement already satisfied: typing-extensions in /usr/local/lib/python3.10/dist-packages (4.5.0)\n",
            "Looking in indexes: https://pypi.org/simple, https://us-python.pkg.dev/colab-wheels/public/simple/\n",
            "Requirement already satisfied: wheel in /usr/local/lib/python3.10/dist-packages (0.40.0)\n"
          ]
        }
      ]
    },
    {
      "cell_type": "code",
      "source": [
        "!pip install pyLDAvis\n",
        "\n",
        "import pyLDAvis\n",
        "import pyLDAvis.gensim_models"
      ],
      "metadata": {
        "colab": {
          "base_uri": "https://localhost:8080/"
        },
        "id": "p3dnqhS2geGy",
        "outputId": "106b6fdf-c020-4304-b937-23e6b839b654"
      },
      "execution_count": 1,
      "outputs": [
        {
          "output_type": "stream",
          "name": "stdout",
          "text": [
            "Looking in indexes: https://pypi.org/simple, https://us-python.pkg.dev/colab-wheels/public/simple/\n",
            "Requirement already satisfied: pyLDAvis in /usr/local/lib/python3.10/dist-packages (3.4.1)\n",
            "Requirement already satisfied: numexpr in /usr/local/lib/python3.10/dist-packages (from pyLDAvis) (2.8.4)\n",
            "Requirement already satisfied: jinja2 in /usr/local/lib/python3.10/dist-packages (from pyLDAvis) (3.1.2)\n",
            "Requirement already satisfied: joblib>=1.2.0 in /usr/local/lib/python3.10/dist-packages (from pyLDAvis) (1.2.0)\n",
            "Requirement already satisfied: funcy in /usr/local/lib/python3.10/dist-packages (from pyLDAvis) (2.0)\n",
            "Requirement already satisfied: numpy>=1.24.2 in /usr/local/lib/python3.10/dist-packages (from pyLDAvis) (1.24.3)\n",
            "Requirement already satisfied: gensim in /usr/local/lib/python3.10/dist-packages (from pyLDAvis) (4.3.1)\n",
            "Requirement already satisfied: setuptools in /usr/local/lib/python3.10/dist-packages (from pyLDAvis) (67.7.2)\n",
            "Requirement already satisfied: pandas>=2.0.0 in /usr/local/lib/python3.10/dist-packages (from pyLDAvis) (2.0.1)\n",
            "Requirement already satisfied: scipy in /usr/local/lib/python3.10/dist-packages (from pyLDAvis) (1.10.1)\n",
            "Requirement already satisfied: scikit-learn>=1.0.0 in /usr/local/lib/python3.10/dist-packages (from pyLDAvis) (1.2.2)\n",
            "Requirement already satisfied: python-dateutil>=2.8.2 in /usr/local/lib/python3.10/dist-packages (from pandas>=2.0.0->pyLDAvis) (2.8.2)\n",
            "Requirement already satisfied: tzdata>=2022.1 in /usr/local/lib/python3.10/dist-packages (from pandas>=2.0.0->pyLDAvis) (2023.3)\n",
            "Requirement already satisfied: pytz>=2020.1 in /usr/local/lib/python3.10/dist-packages (from pandas>=2.0.0->pyLDAvis) (2022.7.1)\n",
            "Requirement already satisfied: threadpoolctl>=2.0.0 in /usr/local/lib/python3.10/dist-packages (from scikit-learn>=1.0.0->pyLDAvis) (3.1.0)\n",
            "Requirement already satisfied: smart-open>=1.8.1 in /usr/local/lib/python3.10/dist-packages (from gensim->pyLDAvis) (6.3.0)\n",
            "Requirement already satisfied: MarkupSafe>=2.0 in /usr/local/lib/python3.10/dist-packages (from jinja2->pyLDAvis) (2.1.2)\n",
            "Requirement already satisfied: six>=1.5 in /usr/local/lib/python3.10/dist-packages (from python-dateutil>=2.8.2->pandas>=2.0.0->pyLDAvis) (1.16.0)\n"
          ]
        }
      ]
    },
    {
      "cell_type": "code",
      "source": [
        "import pandas as pd\n",
        "import numpy as np\n",
        "\n",
        "import re\n",
        "import string\n",
        "\n",
        "import spacy\n",
        "\n",
        "import gensim\n",
        "from gensim import corpora\n",
        "\n",
        "# libraries for visualization\n",
        "import pyLDAvis\n",
        "import pyLDAvis.gensim\n",
        "import matplotlib.pyplot as plt\n",
        "import seaborn as sns\n",
        "%matplotlib inline"
      ],
      "metadata": {
        "colab": {
          "base_uri": "https://localhost:8080/"
        },
        "id": "achGM7togl0D",
        "outputId": "b7992788-919c-4991-dca6-73a1983af0d2"
      },
      "execution_count": 2,
      "outputs": [
        {
          "output_type": "stream",
          "name": "stderr",
          "text": [
            "/usr/local/lib/python3.10/dist-packages/ipykernel/ipkernel.py:283: DeprecationWarning: `should_run_async` will not call `transform_cell` automatically in the future. Please pass the result to `transformed_cell` argument and any exception that happen during thetransform in `preprocessing_exc_tuple` in IPython 7.17 and above.\n",
            "  and should_run_async(code)\n",
            "/usr/local/lib/python3.10/dist-packages/google/rpc/__init__.py:20: DeprecationWarning: Deprecated call to `pkg_resources.declare_namespace('google.rpc')`.\n",
            "Implementing implicit namespace packages (as specified in PEP 420) is preferred to `pkg_resources.declare_namespace`. See https://setuptools.pypa.io/en/latest/references/keywords.html#keyword-namespace-packages\n",
            "  pkg_resources.declare_namespace(__name__)\n",
            "/usr/local/lib/python3.10/dist-packages/pkg_resources/__init__.py:2349: DeprecationWarning: Deprecated call to `pkg_resources.declare_namespace('google')`.\n",
            "Implementing implicit namespace packages (as specified in PEP 420) is preferred to `pkg_resources.declare_namespace`. See https://setuptools.pypa.io/en/latest/references/keywords.html#keyword-namespace-packages\n",
            "  declare_namespace(parent)\n"
          ]
        }
      ]
    },
    {
      "cell_type": "markdown",
      "source": [
        "#Data"
      ],
      "metadata": {
        "id": "yIkb2fcyg_Hr"
      }
    },
    {
      "cell_type": "code",
      "source": [
        "from google.colab import files\n",
        "uploaded = files.upload()"
      ],
      "metadata": {
        "colab": {
          "base_uri": "https://localhost:8080/",
          "height": 128
        },
        "id": "MRMvSgR4g4uP",
        "outputId": "83838de1-a0e8-4d3c-edb3-d07adbac1b25"
      },
      "execution_count": 3,
      "outputs": [
        {
          "output_type": "stream",
          "name": "stderr",
          "text": [
            "/usr/local/lib/python3.10/dist-packages/ipykernel/ipkernel.py:283: DeprecationWarning: `should_run_async` will not call `transform_cell` automatically in the future. Please pass the result to `transformed_cell` argument and any exception that happen during thetransform in `preprocessing_exc_tuple` in IPython 7.17 and above.\n",
            "  and should_run_async(code)\n"
          ]
        },
        {
          "output_type": "display_data",
          "data": {
            "text/plain": [
              "<IPython.core.display.HTML object>"
            ],
            "text/html": [
              "\n",
              "     <input type=\"file\" id=\"files-66cd52d6-e1bd-4aa9-843a-a70bba1ddae4\" name=\"files[]\" multiple disabled\n",
              "        style=\"border:none\" />\n",
              "     <output id=\"result-66cd52d6-e1bd-4aa9-843a-a70bba1ddae4\">\n",
              "      Upload widget is only available when the cell has been executed in the\n",
              "      current browser session. Please rerun this cell to enable.\n",
              "      </output>\n",
              "      <script>// Copyright 2017 Google LLC\n",
              "//\n",
              "// Licensed under the Apache License, Version 2.0 (the \"License\");\n",
              "// you may not use this file except in compliance with the License.\n",
              "// You may obtain a copy of the License at\n",
              "//\n",
              "//      http://www.apache.org/licenses/LICENSE-2.0\n",
              "//\n",
              "// Unless required by applicable law or agreed to in writing, software\n",
              "// distributed under the License is distributed on an \"AS IS\" BASIS,\n",
              "// WITHOUT WARRANTIES OR CONDITIONS OF ANY KIND, either express or implied.\n",
              "// See the License for the specific language governing permissions and\n",
              "// limitations under the License.\n",
              "\n",
              "/**\n",
              " * @fileoverview Helpers for google.colab Python module.\n",
              " */\n",
              "(function(scope) {\n",
              "function span(text, styleAttributes = {}) {\n",
              "  const element = document.createElement('span');\n",
              "  element.textContent = text;\n",
              "  for (const key of Object.keys(styleAttributes)) {\n",
              "    element.style[key] = styleAttributes[key];\n",
              "  }\n",
              "  return element;\n",
              "}\n",
              "\n",
              "// Max number of bytes which will be uploaded at a time.\n",
              "const MAX_PAYLOAD_SIZE = 100 * 1024;\n",
              "\n",
              "function _uploadFiles(inputId, outputId) {\n",
              "  const steps = uploadFilesStep(inputId, outputId);\n",
              "  const outputElement = document.getElementById(outputId);\n",
              "  // Cache steps on the outputElement to make it available for the next call\n",
              "  // to uploadFilesContinue from Python.\n",
              "  outputElement.steps = steps;\n",
              "\n",
              "  return _uploadFilesContinue(outputId);\n",
              "}\n",
              "\n",
              "// This is roughly an async generator (not supported in the browser yet),\n",
              "// where there are multiple asynchronous steps and the Python side is going\n",
              "// to poll for completion of each step.\n",
              "// This uses a Promise to block the python side on completion of each step,\n",
              "// then passes the result of the previous step as the input to the next step.\n",
              "function _uploadFilesContinue(outputId) {\n",
              "  const outputElement = document.getElementById(outputId);\n",
              "  const steps = outputElement.steps;\n",
              "\n",
              "  const next = steps.next(outputElement.lastPromiseValue);\n",
              "  return Promise.resolve(next.value.promise).then((value) => {\n",
              "    // Cache the last promise value to make it available to the next\n",
              "    // step of the generator.\n",
              "    outputElement.lastPromiseValue = value;\n",
              "    return next.value.response;\n",
              "  });\n",
              "}\n",
              "\n",
              "/**\n",
              " * Generator function which is called between each async step of the upload\n",
              " * process.\n",
              " * @param {string} inputId Element ID of the input file picker element.\n",
              " * @param {string} outputId Element ID of the output display.\n",
              " * @return {!Iterable<!Object>} Iterable of next steps.\n",
              " */\n",
              "function* uploadFilesStep(inputId, outputId) {\n",
              "  const inputElement = document.getElementById(inputId);\n",
              "  inputElement.disabled = false;\n",
              "\n",
              "  const outputElement = document.getElementById(outputId);\n",
              "  outputElement.innerHTML = '';\n",
              "\n",
              "  const pickedPromise = new Promise((resolve) => {\n",
              "    inputElement.addEventListener('change', (e) => {\n",
              "      resolve(e.target.files);\n",
              "    });\n",
              "  });\n",
              "\n",
              "  const cancel = document.createElement('button');\n",
              "  inputElement.parentElement.appendChild(cancel);\n",
              "  cancel.textContent = 'Cancel upload';\n",
              "  const cancelPromise = new Promise((resolve) => {\n",
              "    cancel.onclick = () => {\n",
              "      resolve(null);\n",
              "    };\n",
              "  });\n",
              "\n",
              "  // Wait for the user to pick the files.\n",
              "  const files = yield {\n",
              "    promise: Promise.race([pickedPromise, cancelPromise]),\n",
              "    response: {\n",
              "      action: 'starting',\n",
              "    }\n",
              "  };\n",
              "\n",
              "  cancel.remove();\n",
              "\n",
              "  // Disable the input element since further picks are not allowed.\n",
              "  inputElement.disabled = true;\n",
              "\n",
              "  if (!files) {\n",
              "    return {\n",
              "      response: {\n",
              "        action: 'complete',\n",
              "      }\n",
              "    };\n",
              "  }\n",
              "\n",
              "  for (const file of files) {\n",
              "    const li = document.createElement('li');\n",
              "    li.append(span(file.name, {fontWeight: 'bold'}));\n",
              "    li.append(span(\n",
              "        `(${file.type || 'n/a'}) - ${file.size} bytes, ` +\n",
              "        `last modified: ${\n",
              "            file.lastModifiedDate ? file.lastModifiedDate.toLocaleDateString() :\n",
              "                                    'n/a'} - `));\n",
              "    const percent = span('0% done');\n",
              "    li.appendChild(percent);\n",
              "\n",
              "    outputElement.appendChild(li);\n",
              "\n",
              "    const fileDataPromise = new Promise((resolve) => {\n",
              "      const reader = new FileReader();\n",
              "      reader.onload = (e) => {\n",
              "        resolve(e.target.result);\n",
              "      };\n",
              "      reader.readAsArrayBuffer(file);\n",
              "    });\n",
              "    // Wait for the data to be ready.\n",
              "    let fileData = yield {\n",
              "      promise: fileDataPromise,\n",
              "      response: {\n",
              "        action: 'continue',\n",
              "      }\n",
              "    };\n",
              "\n",
              "    // Use a chunked sending to avoid message size limits. See b/62115660.\n",
              "    let position = 0;\n",
              "    do {\n",
              "      const length = Math.min(fileData.byteLength - position, MAX_PAYLOAD_SIZE);\n",
              "      const chunk = new Uint8Array(fileData, position, length);\n",
              "      position += length;\n",
              "\n",
              "      const base64 = btoa(String.fromCharCode.apply(null, chunk));\n",
              "      yield {\n",
              "        response: {\n",
              "          action: 'append',\n",
              "          file: file.name,\n",
              "          data: base64,\n",
              "        },\n",
              "      };\n",
              "\n",
              "      let percentDone = fileData.byteLength === 0 ?\n",
              "          100 :\n",
              "          Math.round((position / fileData.byteLength) * 100);\n",
              "      percent.textContent = `${percentDone}% done`;\n",
              "\n",
              "    } while (position < fileData.byteLength);\n",
              "  }\n",
              "\n",
              "  // All done.\n",
              "  yield {\n",
              "    response: {\n",
              "      action: 'complete',\n",
              "    }\n",
              "  };\n",
              "}\n",
              "\n",
              "scope.google = scope.google || {};\n",
              "scope.google.colab = scope.google.colab || {};\n",
              "scope.google.colab._files = {\n",
              "  _uploadFiles,\n",
              "  _uploadFilesContinue,\n",
              "};\n",
              "})(self);\n",
              "</script> "
            ]
          },
          "metadata": {}
        },
        {
          "output_type": "stream",
          "name": "stdout",
          "text": [
            "Saving Sentiment_Analysis_British_Airways.csv to Sentiment_Analysis_British_Airways.csv\n"
          ]
        }
      ]
    },
    {
      "cell_type": "code",
      "source": [
        "datax=pd.read_csv('Sentiment_Analysis_British_Airways.csv')"
      ],
      "metadata": {
        "colab": {
          "base_uri": "https://localhost:8080/"
        },
        "id": "nddxtRK4hZIr",
        "outputId": "a9d65de1-b7f3-4b0e-db1f-8a30c9119c87"
      },
      "execution_count": 5,
      "outputs": [
        {
          "output_type": "stream",
          "name": "stderr",
          "text": [
            "/usr/local/lib/python3.10/dist-packages/ipykernel/ipkernel.py:283: DeprecationWarning: `should_run_async` will not call `transform_cell` automatically in the future. Please pass the result to `transformed_cell` argument and any exception that happen during thetransform in `preprocessing_exc_tuple` in IPython 7.17 and above.\n",
            "  and should_run_async(code)\n"
          ]
        }
      ]
    },
    {
      "cell_type": "code",
      "source": [
        "# Convert to list\n",
        "data = datax.comments.values.tolist()\n",
        "\n",
        "# Remove Emails\n",
        "data = [re.sub('\\S*@\\S*\\s?', '', sent) for sent in data]\n",
        "\n",
        "# Remove new line characters\n",
        "data = [re.sub('\\s+', ' ', sent) for sent in data]\n",
        "\n",
        "# Remove distracting single quotes\n",
        "data = [re.sub(\"\\'\", \"\", sent) for sent in data]\n",
        "\n",
        "print(data[:1])"
      ],
      "metadata": {
        "colab": {
          "base_uri": "https://localhost:8080/"
        },
        "id": "ZWjFCBjFhqxF",
        "outputId": "fc03428e-a94d-41ef-ed53-7ff42a1ffc0d"
      },
      "execution_count": 9,
      "outputs": [
        {
          "output_type": "stream",
          "name": "stderr",
          "text": [
            "/usr/local/lib/python3.10/dist-packages/ipykernel/ipkernel.py:283: DeprecationWarning: `should_run_async` will not call `transform_cell` automatically in the future. Please pass the result to `transformed_cell` argument and any exception that happen during thetransform in `preprocessing_exc_tuple` in IPython 7.17 and above.\n",
            "  and should_run_async(code)\n",
            "<>:5: DeprecationWarning: invalid escape sequence '\\S'\n",
            "<>:8: DeprecationWarning: invalid escape sequence '\\s'\n",
            "<>:5: DeprecationWarning: invalid escape sequence '\\S'\n",
            "<>:8: DeprecationWarning: invalid escape sequence '\\s'\n",
            "<ipython-input-9-3ca5b78daf43>:5: DeprecationWarning: invalid escape sequence '\\S'\n",
            "  data = [re.sub('\\S*@\\S*\\s?', '', sent) for sent in data]\n",
            "<ipython-input-9-3ca5b78daf43>:8: DeprecationWarning: invalid escape sequence '\\s'\n",
            "  data = [re.sub('\\s+', ' ', sent) for sent in data]\n"
          ]
        },
        {
          "output_type": "stream",
          "name": "stdout",
          "text": [
            "['regarding the aircraft and seat: the business class seats on this flight were pretty good. all were of the suite type, where every seat has its own booth with sliding door for extra privacy. the downside to this is that if you are travelling as a couple, its quite difficult to interact. there is ample storage and usb charging ports. the seat is pretty comfortable. as someone who finds it very difficult to sleep on flights, this was one of the only times ive been able to get a few minutes sleep here and there. the amenities provided are pretty average when compared to other airlines. the leather toiletry bag was quite nice though. no slippers, only a pair of socks. the restrooms on the flight are very small, and dont provide much in the way of toiletries compared to other airlines. no free wi-fi in business class is not acceptable. another example of bas penny pinching in recent years. regarding the staff and customer service: poor. inattentive. beyond meal times there was offer of water during the flight. i had to go and find an attendant and ask. there was also no offer of any snacks. rude at times. my partner asked for a fork to be replaced as the one provided was quite clearly dirty. the attendant was incredibly rude in response. this left us shocked. different customers seem to receive a different quality of service. a customer behind me was repeatedly greeted politely by name and asked how they were, whether they needed anything etc. whereas my partner and i were not afforded the same level of personal service. this is disappointing as we paid the same price for the tickets so expect the same level of service. the food was pretty bad. i had risotto while my partner had chicken. both were extremely over cooked and the rice looked like porridge. the vegetables were discoloured and flavourless. the bread was nice though. the breakfast wasnt much better. summary: ba has become the ryanair of long haul. the customer service is way below what i would expect for a premium airline in a premium seat. you pay a premium price for a very average service. if there are other options available i would choose them over ba these days.']\n"
          ]
        }
      ]
    },
    {
      "cell_type": "code",
      "source": [
        "def sent_to_words(sentences):\n",
        "    for sentence in sentences:\n",
        "        yield(gensim.utils.simple_preprocess(str(sentence), deacc=True))  # deacc=True removes punctuations\n",
        "\n",
        "data_words = list(sent_to_words(data))\n",
        "\n",
        "print(data_words[:1])"
      ],
      "metadata": {
        "colab": {
          "base_uri": "https://localhost:8080/"
        },
        "id": "RHkJz8wXivjg",
        "outputId": "7c0f7c93-f088-49e4-e0ee-968226e82f92"
      },
      "execution_count": 10,
      "outputs": [
        {
          "output_type": "stream",
          "name": "stderr",
          "text": [
            "/usr/local/lib/python3.10/dist-packages/ipykernel/ipkernel.py:283: DeprecationWarning: `should_run_async` will not call `transform_cell` automatically in the future. Please pass the result to `transformed_cell` argument and any exception that happen during thetransform in `preprocessing_exc_tuple` in IPython 7.17 and above.\n",
            "  and should_run_async(code)\n"
          ]
        },
        {
          "output_type": "stream",
          "name": "stdout",
          "text": [
            "[['regarding', 'the', 'aircraft', 'and', 'seat', 'the', 'business', 'class', 'seats', 'on', 'this', 'flight', 'were', 'pretty', 'good', 'all', 'were', 'of', 'the', 'suite', 'type', 'where', 'every', 'seat', 'has', 'its', 'own', 'booth', 'with', 'sliding', 'door', 'for', 'extra', 'privacy', 'the', 'downside', 'to', 'this', 'is', 'that', 'if', 'you', 'are', 'travelling', 'as', 'couple', 'its', 'quite', 'difficult', 'to', 'interact', 'there', 'is', 'ample', 'storage', 'and', 'usb', 'charging', 'ports', 'the', 'seat', 'is', 'pretty', 'comfortable', 'as', 'someone', 'who', 'finds', 'it', 'very', 'difficult', 'to', 'sleep', 'on', 'flights', 'this', 'was', 'one', 'of', 'the', 'only', 'times', 'ive', 'been', 'able', 'to', 'get', 'few', 'minutes', 'sleep', 'here', 'and', 'there', 'the', 'amenities', 'provided', 'are', 'pretty', 'average', 'when', 'compared', 'to', 'other', 'airlines', 'the', 'leather', 'toiletry', 'bag', 'was', 'quite', 'nice', 'though', 'no', 'slippers', 'only', 'pair', 'of', 'socks', 'the', 'restrooms', 'on', 'the', 'flight', 'are', 'very', 'small', 'and', 'dont', 'provide', 'much', 'in', 'the', 'way', 'of', 'toiletries', 'compared', 'to', 'other', 'airlines', 'no', 'free', 'wi', 'fi', 'in', 'business', 'class', 'is', 'not', 'acceptable', 'another', 'example', 'of', 'bas', 'penny', 'pinching', 'in', 'recent', 'years', 'regarding', 'the', 'staff', 'and', 'customer', 'service', 'poor', 'inattentive', 'beyond', 'meal', 'times', 'there', 'was', 'offer', 'of', 'water', 'during', 'the', 'flight', 'had', 'to', 'go', 'and', 'find', 'an', 'attendant', 'and', 'ask', 'there', 'was', 'also', 'no', 'offer', 'of', 'any', 'snacks', 'rude', 'at', 'times', 'my', 'partner', 'asked', 'for', 'fork', 'to', 'be', 'replaced', 'as', 'the', 'one', 'provided', 'was', 'quite', 'clearly', 'dirty', 'the', 'attendant', 'was', 'incredibly', 'rude', 'in', 'response', 'this', 'left', 'us', 'shocked', 'different', 'customers', 'seem', 'to', 'receive', 'different', 'quality', 'of', 'service', 'customer', 'behind', 'me', 'was', 'repeatedly', 'greeted', 'politely', 'by', 'name', 'and', 'asked', 'how', 'they', 'were', 'whether', 'they', 'needed', 'anything', 'etc', 'whereas', 'my', 'partner', 'and', 'were', 'not', 'afforded', 'the', 'same', 'level', 'of', 'personal', 'service', 'this', 'is', 'disappointing', 'as', 'we', 'paid', 'the', 'same', 'price', 'for', 'the', 'tickets', 'so', 'expect', 'the', 'same', 'level', 'of', 'service', 'the', 'food', 'was', 'pretty', 'bad', 'had', 'risotto', 'while', 'my', 'partner', 'had', 'chicken', 'both', 'were', 'extremely', 'over', 'cooked', 'and', 'the', 'rice', 'looked', 'like', 'porridge', 'the', 'vegetables', 'were', 'discoloured', 'and', 'flavourless', 'the', 'bread', 'was', 'nice', 'though', 'the', 'breakfast', 'wasnt', 'much', 'better', 'summary', 'ba', 'has', 'become', 'the', 'ryanair', 'of', 'long', 'haul', 'the', 'customer', 'service', 'is', 'way', 'below', 'what', 'would', 'expect', 'for', 'premium', 'airline', 'in', 'premium', 'seat', 'you', 'pay', 'premium', 'price', 'for', 'very', 'average', 'service', 'if', 'there', 'are', 'other', 'options', 'available', 'would', 'choose', 'them', 'over', 'ba', 'these', 'days']]\n"
          ]
        }
      ]
    },
    {
      "cell_type": "code",
      "source": [
        "# Build the bigram and trigram models\n",
        "bigram = gensim.models.Phrases(data_words, min_count=5, threshold=100) # higher threshold fewer phrases.\n",
        "trigram = gensim.models.Phrases(bigram[data_words], threshold=100)  \n",
        "\n",
        "# Faster way to get a sentence clubbed as a trigram/bigram\n",
        "bigram_mod = gensim.models.phrases.Phraser(bigram)\n",
        "trigram_mod = gensim.models.phrases.Phraser(trigram)\n",
        "\n",
        "# See trigram example\n",
        "print(trigram_mod[bigram_mod[data_words[0]]])"
      ],
      "metadata": {
        "colab": {
          "base_uri": "https://localhost:8080/"
        },
        "id": "mRaSRU_vi1I-",
        "outputId": "5f755f29-19b0-4a96-eed5-caf1c414df9b"
      },
      "execution_count": 11,
      "outputs": [
        {
          "output_type": "stream",
          "name": "stderr",
          "text": [
            "/usr/local/lib/python3.10/dist-packages/ipykernel/ipkernel.py:283: DeprecationWarning: `should_run_async` will not call `transform_cell` automatically in the future. Please pass the result to `transformed_cell` argument and any exception that happen during thetransform in `preprocessing_exc_tuple` in IPython 7.17 and above.\n",
            "  and should_run_async(code)\n"
          ]
        },
        {
          "output_type": "stream",
          "name": "stdout",
          "text": [
            "['regarding', 'the', 'aircraft', 'and', 'seat', 'the', 'business', 'class', 'seats', 'on', 'this', 'flight', 'were', 'pretty', 'good', 'all', 'were', 'of', 'the', 'suite', 'type', 'where', 'every', 'seat', 'has', 'its', 'own', 'booth', 'with', 'sliding', 'door', 'for', 'extra', 'privacy', 'the', 'downside', 'to', 'this', 'is', 'that', 'if', 'you', 'are', 'travelling', 'as', 'couple', 'its', 'quite', 'difficult', 'to', 'interact', 'there', 'is', 'ample', 'storage', 'and', 'usb', 'charging', 'ports', 'the', 'seat', 'is', 'pretty', 'comfortable', 'as', 'someone', 'who', 'finds', 'it', 'very', 'difficult', 'to', 'sleep', 'on', 'flights', 'this', 'was', 'one', 'of', 'the', 'only', 'times', 'ive', 'been', 'able', 'to', 'get', 'few', 'minutes', 'sleep', 'here', 'and', 'there', 'the', 'amenities', 'provided', 'are', 'pretty', 'average', 'when', 'compared', 'to', 'other', 'airlines', 'the', 'leather', 'toiletry', 'bag', 'was', 'quite', 'nice', 'though', 'no', 'slippers', 'only', 'pair', 'of', 'socks', 'the', 'restrooms', 'on', 'the', 'flight', 'are', 'very', 'small', 'and', 'dont', 'provide', 'much', 'in', 'the', 'way', 'of', 'toiletries', 'compared', 'to', 'other', 'airlines', 'no', 'free', 'wi_fi', 'in', 'business', 'class', 'is', 'not', 'acceptable', 'another', 'example', 'of', 'bas', 'penny_pinching', 'in', 'recent', 'years', 'regarding', 'the', 'staff', 'and', 'customer', 'service', 'poor', 'inattentive', 'beyond', 'meal', 'times', 'there', 'was', 'offer', 'of', 'water', 'during', 'the', 'flight', 'had', 'to', 'go', 'and', 'find', 'an', 'attendant', 'and', 'ask', 'there', 'was', 'also', 'no', 'offer', 'of', 'any', 'snacks', 'rude', 'at', 'times', 'my', 'partner', 'asked', 'for', 'fork', 'to', 'be', 'replaced', 'as', 'the', 'one', 'provided', 'was', 'quite', 'clearly', 'dirty', 'the', 'attendant', 'was', 'incredibly', 'rude', 'in', 'response', 'this', 'left', 'us', 'shocked', 'different', 'customers', 'seem', 'to', 'receive', 'different', 'quality', 'of', 'service', 'customer', 'behind', 'me', 'was', 'repeatedly', 'greeted', 'politely', 'by', 'name', 'and', 'asked', 'how', 'they', 'were', 'whether', 'they', 'needed', 'anything', 'etc', 'whereas', 'my', 'partner', 'and', 'were', 'not', 'afforded', 'the', 'same', 'level', 'of', 'personal', 'service', 'this', 'is', 'disappointing', 'as', 'we', 'paid', 'the', 'same', 'price', 'for', 'the', 'tickets', 'so', 'expect', 'the', 'same', 'level', 'of', 'service', 'the', 'food', 'was', 'pretty', 'bad', 'had', 'risotto', 'while', 'my', 'partner', 'had', 'chicken', 'both', 'were', 'extremely', 'over', 'cooked', 'and', 'the', 'rice', 'looked', 'like', 'porridge', 'the', 'vegetables', 'were', 'discoloured', 'and', 'flavourless', 'the', 'bread', 'was', 'nice', 'though', 'the', 'breakfast', 'wasnt', 'much', 'better', 'summary', 'ba', 'has', 'become', 'the', 'ryanair', 'of', 'long_haul', 'the', 'customer', 'service', 'is', 'way', 'below', 'what', 'would', 'expect', 'for', 'premium', 'airline', 'in', 'premium', 'seat', 'you', 'pay', 'premium', 'price', 'for', 'very', 'average', 'service', 'if', 'there', 'are', 'other', 'options', 'available', 'would', 'choose', 'them', 'over', 'ba', 'these', 'days']\n"
          ]
        }
      ]
    },
    {
      "cell_type": "code",
      "source": [
        "# NLTK Stop words\n",
        "import nltk\n",
        "nltk.download('stopwords') # run this one time\n",
        "from nltk.corpus import stopwords\n",
        "stop_words = stopwords.words('english')\n",
        "stop_words.extend(['from', 'subject', 're', 'edu', 'use'])"
      ],
      "metadata": {
        "colab": {
          "base_uri": "https://localhost:8080/"
        },
        "id": "fgzRLrI0jtLT",
        "outputId": "74d86e1d-e923-4115-aebd-d836abca1c49"
      },
      "execution_count": 19,
      "outputs": [
        {
          "output_type": "stream",
          "name": "stderr",
          "text": [
            "/usr/local/lib/python3.10/dist-packages/ipykernel/ipkernel.py:283: DeprecationWarning: `should_run_async` will not call `transform_cell` automatically in the future. Please pass the result to `transformed_cell` argument and any exception that happen during thetransform in `preprocessing_exc_tuple` in IPython 7.17 and above.\n",
            "  and should_run_async(code)\n",
            "[nltk_data] Downloading package stopwords to /root/nltk_data...\n",
            "[nltk_data]   Unzipping corpora/stopwords.zip.\n"
          ]
        }
      ]
    },
    {
      "cell_type": "code",
      "source": [
        "from gensim.utils import simple_preprocess"
      ],
      "metadata": {
        "colab": {
          "base_uri": "https://localhost:8080/"
        },
        "id": "pfS3JyxujeCt",
        "outputId": "76c2a703-8838-4673-cb68-7582dcaad86c"
      },
      "execution_count": 20,
      "outputs": [
        {
          "output_type": "stream",
          "name": "stderr",
          "text": [
            "/usr/local/lib/python3.10/dist-packages/ipykernel/ipkernel.py:283: DeprecationWarning: `should_run_async` will not call `transform_cell` automatically in the future. Please pass the result to `transformed_cell` argument and any exception that happen during thetransform in `preprocessing_exc_tuple` in IPython 7.17 and above.\n",
            "  and should_run_async(code)\n"
          ]
        }
      ]
    },
    {
      "cell_type": "code",
      "source": [
        "# Define functions for stopwords, bigrams, trigrams and lemmatization\n",
        "def remove_stopwords(texts):\n",
        "    return [[word for word in simple_preprocess(str(doc)) if word not in stop_words] for doc in texts]\n",
        "\n",
        "def make_bigrams(texts):\n",
        "    return [bigram_mod[doc] for doc in texts]\n",
        "\n",
        "def make_trigrams(texts):\n",
        "    return [trigram_mod[bigram_mod[doc]] for doc in texts]\n",
        "\n",
        "def lemmatization(texts, allowed_postags=['NOUN', 'ADJ', 'VERB', 'ADV']):\n",
        "    \"\"\"https://spacy.io/api/annotation\"\"\"\n",
        "    texts_out = []\n",
        "    for sent in texts:\n",
        "        doc = nlp(\" \".join(sent)) \n",
        "        texts_out.append([token.lemma_ for token in doc if token.pos_ in allowed_postags])\n",
        "    return texts_out"
      ],
      "metadata": {
        "colab": {
          "base_uri": "https://localhost:8080/"
        },
        "id": "4oANVvcki7vh",
        "outputId": "7534231c-c253-4cd7-f5f1-c60f2bae847a"
      },
      "execution_count": 21,
      "outputs": [
        {
          "output_type": "stream",
          "name": "stderr",
          "text": [
            "/usr/local/lib/python3.10/dist-packages/ipykernel/ipkernel.py:283: DeprecationWarning: `should_run_async` will not call `transform_cell` automatically in the future. Please pass the result to `transformed_cell` argument and any exception that happen during thetransform in `preprocessing_exc_tuple` in IPython 7.17 and above.\n",
            "  and should_run_async(code)\n"
          ]
        }
      ]
    },
    {
      "cell_type": "code",
      "source": [
        "!python -m spacy download en_core_web_md "
      ],
      "metadata": {
        "colab": {
          "base_uri": "https://localhost:8080/"
        },
        "id": "Ofckey89jqrt",
        "outputId": "a013e024-d10b-478d-c6d5-7e9c164ae892"
      },
      "execution_count": 23,
      "outputs": [
        {
          "output_type": "stream",
          "name": "stderr",
          "text": [
            "/usr/local/lib/python3.10/dist-packages/ipykernel/ipkernel.py:283: DeprecationWarning: `should_run_async` will not call `transform_cell` automatically in the future. Please pass the result to `transformed_cell` argument and any exception that happen during thetransform in `preprocessing_exc_tuple` in IPython 7.17 and above.\n",
            "  and should_run_async(code)\n"
          ]
        },
        {
          "output_type": "stream",
          "name": "stdout",
          "text": [
            "2023-05-02 22:24:46.106606: W tensorflow/compiler/tf2tensorrt/utils/py_utils.cc:38] TF-TRT Warning: Could not find TensorRT\n",
            "Looking in indexes: https://pypi.org/simple, https://us-python.pkg.dev/colab-wheels/public/simple/\n",
            "Collecting en-core-web-md==3.5.0\n",
            "  Downloading https://github.com/explosion/spacy-models/releases/download/en_core_web_md-3.5.0/en_core_web_md-3.5.0-py3-none-any.whl (42.8 MB)\n",
            "\u001b[2K     \u001b[90m━━━━━━━━━━━━━━━━━━━━━━━━━━━━━━━━━━━━━━━━\u001b[0m \u001b[32m42.8/42.8 MB\u001b[0m \u001b[31m10.7 MB/s\u001b[0m eta \u001b[36m0:00:00\u001b[0m\n",
            "\u001b[?25hRequirement already satisfied: spacy<3.6.0,>=3.5.0 in /usr/local/lib/python3.10/dist-packages (from en-core-web-md==3.5.0) (3.5.2)\n",
            "Requirement already satisfied: srsly<3.0.0,>=2.4.3 in /usr/local/lib/python3.10/dist-packages (from spacy<3.6.0,>=3.5.0->en-core-web-md==3.5.0) (2.4.6)\n",
            "Requirement already satisfied: numpy>=1.15.0 in /usr/local/lib/python3.10/dist-packages (from spacy<3.6.0,>=3.5.0->en-core-web-md==3.5.0) (1.24.3)\n",
            "Requirement already satisfied: catalogue<2.1.0,>=2.0.6 in /usr/local/lib/python3.10/dist-packages (from spacy<3.6.0,>=3.5.0->en-core-web-md==3.5.0) (2.0.8)\n",
            "Requirement already satisfied: setuptools in /usr/local/lib/python3.10/dist-packages (from spacy<3.6.0,>=3.5.0->en-core-web-md==3.5.0) (67.7.2)\n",
            "Requirement already satisfied: pathy>=0.10.0 in /usr/local/lib/python3.10/dist-packages (from spacy<3.6.0,>=3.5.0->en-core-web-md==3.5.0) (0.10.1)\n",
            "Requirement already satisfied: spacy-loggers<2.0.0,>=1.0.0 in /usr/local/lib/python3.10/dist-packages (from spacy<3.6.0,>=3.5.0->en-core-web-md==3.5.0) (1.0.4)\n",
            "Requirement already satisfied: thinc<8.2.0,>=8.1.8 in /usr/local/lib/python3.10/dist-packages (from spacy<3.6.0,>=3.5.0->en-core-web-md==3.5.0) (8.1.9)\n",
            "Requirement already satisfied: smart-open<7.0.0,>=5.2.1 in /usr/local/lib/python3.10/dist-packages (from spacy<3.6.0,>=3.5.0->en-core-web-md==3.5.0) (6.3.0)\n",
            "Requirement already satisfied: typer<0.8.0,>=0.3.0 in /usr/local/lib/python3.10/dist-packages (from spacy<3.6.0,>=3.5.0->en-core-web-md==3.5.0) (0.7.0)\n",
            "Requirement already satisfied: tqdm<5.0.0,>=4.38.0 in /usr/local/lib/python3.10/dist-packages (from spacy<3.6.0,>=3.5.0->en-core-web-md==3.5.0) (4.65.0)\n",
            "Requirement already satisfied: preshed<3.1.0,>=3.0.2 in /usr/local/lib/python3.10/dist-packages (from spacy<3.6.0,>=3.5.0->en-core-web-md==3.5.0) (3.0.8)\n",
            "Requirement already satisfied: requests<3.0.0,>=2.13.0 in /usr/local/lib/python3.10/dist-packages (from spacy<3.6.0,>=3.5.0->en-core-web-md==3.5.0) (2.27.1)\n",
            "Requirement already satisfied: packaging>=20.0 in /usr/local/lib/python3.10/dist-packages (from spacy<3.6.0,>=3.5.0->en-core-web-md==3.5.0) (23.1)\n",
            "Requirement already satisfied: jinja2 in /usr/local/lib/python3.10/dist-packages (from spacy<3.6.0,>=3.5.0->en-core-web-md==3.5.0) (3.1.2)\n",
            "Requirement already satisfied: wasabi<1.2.0,>=0.9.1 in /usr/local/lib/python3.10/dist-packages (from spacy<3.6.0,>=3.5.0->en-core-web-md==3.5.0) (1.1.1)\n",
            "Requirement already satisfied: murmurhash<1.1.0,>=0.28.0 in /usr/local/lib/python3.10/dist-packages (from spacy<3.6.0,>=3.5.0->en-core-web-md==3.5.0) (1.0.9)\n",
            "Requirement already satisfied: cymem<2.1.0,>=2.0.2 in /usr/local/lib/python3.10/dist-packages (from spacy<3.6.0,>=3.5.0->en-core-web-md==3.5.0) (2.0.7)\n",
            "Requirement already satisfied: spacy-legacy<3.1.0,>=3.0.11 in /usr/local/lib/python3.10/dist-packages (from spacy<3.6.0,>=3.5.0->en-core-web-md==3.5.0) (3.0.12)\n",
            "Requirement already satisfied: pydantic!=1.8,!=1.8.1,<1.11.0,>=1.7.4 in /usr/local/lib/python3.10/dist-packages (from spacy<3.6.0,>=3.5.0->en-core-web-md==3.5.0) (1.10.7)\n",
            "Requirement already satisfied: langcodes<4.0.0,>=3.2.0 in /usr/local/lib/python3.10/dist-packages (from spacy<3.6.0,>=3.5.0->en-core-web-md==3.5.0) (3.3.0)\n",
            "Requirement already satisfied: typing-extensions>=4.2.0 in /usr/local/lib/python3.10/dist-packages (from pydantic!=1.8,!=1.8.1,<1.11.0,>=1.7.4->spacy<3.6.0,>=3.5.0->en-core-web-md==3.5.0) (4.5.0)\n",
            "Requirement already satisfied: idna<4,>=2.5 in /usr/local/lib/python3.10/dist-packages (from requests<3.0.0,>=2.13.0->spacy<3.6.0,>=3.5.0->en-core-web-md==3.5.0) (3.4)\n",
            "Requirement already satisfied: charset-normalizer~=2.0.0 in /usr/local/lib/python3.10/dist-packages (from requests<3.0.0,>=2.13.0->spacy<3.6.0,>=3.5.0->en-core-web-md==3.5.0) (2.0.12)\n",
            "Requirement already satisfied: certifi>=2017.4.17 in /usr/local/lib/python3.10/dist-packages (from requests<3.0.0,>=2.13.0->spacy<3.6.0,>=3.5.0->en-core-web-md==3.5.0) (2022.12.7)\n",
            "Requirement already satisfied: urllib3<1.27,>=1.21.1 in /usr/local/lib/python3.10/dist-packages (from requests<3.0.0,>=2.13.0->spacy<3.6.0,>=3.5.0->en-core-web-md==3.5.0) (1.26.15)\n",
            "Requirement already satisfied: blis<0.8.0,>=0.7.8 in /usr/local/lib/python3.10/dist-packages (from thinc<8.2.0,>=8.1.8->spacy<3.6.0,>=3.5.0->en-core-web-md==3.5.0) (0.7.9)\n",
            "Requirement already satisfied: confection<1.0.0,>=0.0.1 in /usr/local/lib/python3.10/dist-packages (from thinc<8.2.0,>=8.1.8->spacy<3.6.0,>=3.5.0->en-core-web-md==3.5.0) (0.0.4)\n",
            "Requirement already satisfied: click<9.0.0,>=7.1.1 in /usr/local/lib/python3.10/dist-packages (from typer<0.8.0,>=0.3.0->spacy<3.6.0,>=3.5.0->en-core-web-md==3.5.0) (8.1.3)\n",
            "Requirement already satisfied: MarkupSafe>=2.0 in /usr/local/lib/python3.10/dist-packages (from jinja2->spacy<3.6.0,>=3.5.0->en-core-web-md==3.5.0) (2.1.2)\n",
            "Installing collected packages: en-core-web-md\n",
            "Successfully installed en-core-web-md-3.5.0\n",
            "\u001b[38;5;2m✔ Download and installation successful\u001b[0m\n",
            "You can now load the package via spacy.load('en_core_web_md')\n"
          ]
        }
      ]
    },
    {
      "cell_type": "code",
      "source": [
        "spacy.load('en_core_web_md')"
      ],
      "metadata": {
        "colab": {
          "base_uri": "https://localhost:8080/"
        },
        "id": "kU32gONfkmVp",
        "outputId": "b357a763-d1d1-4e4f-f7fe-511da8caa75c"
      },
      "execution_count": 24,
      "outputs": [
        {
          "output_type": "stream",
          "name": "stderr",
          "text": [
            "/usr/local/lib/python3.10/dist-packages/ipykernel/ipkernel.py:283: DeprecationWarning: `should_run_async` will not call `transform_cell` automatically in the future. Please pass the result to `transformed_cell` argument and any exception that happen during thetransform in `preprocessing_exc_tuple` in IPython 7.17 and above.\n",
            "  and should_run_async(code)\n"
          ]
        },
        {
          "output_type": "execute_result",
          "data": {
            "text/plain": [
              "<spacy.lang.en.English at 0x7ff219f8f2b0>"
            ]
          },
          "metadata": {},
          "execution_count": 24
        }
      ]
    },
    {
      "cell_type": "code",
      "source": [
        "# Remove Stop Words\n",
        "data_words_nostops = remove_stopwords(data_words)\n",
        "\n",
        "# Form Bigrams\n",
        "data_words_bigrams = make_bigrams(data_words_nostops)\n",
        "\n",
        "# Initialize spacy 'en' model, keeping only tagger component (for efficiency)\n",
        "!python3 -m spacy download en\n",
        "nlp = spacy.load('en_core_web_sm', disable=['parser', 'ner'])\n",
        "\n",
        "# Do lemmatization keeping only noun, adj, vb, adv\n",
        "data_lemmatized = lemmatization(data_words_bigrams, allowed_postags=['NOUN', 'ADJ', 'VERB', 'ADV'])\n",
        "\n",
        "print(data_lemmatized[:1])"
      ],
      "metadata": {
        "colab": {
          "base_uri": "https://localhost:8080/"
        },
        "id": "ILPUK8WijJ-C",
        "outputId": "4c082ee7-8d24-49ff-afc6-07cd23c4a09a"
      },
      "execution_count": 28,
      "outputs": [
        {
          "output_type": "stream",
          "name": "stderr",
          "text": [
            "/usr/local/lib/python3.10/dist-packages/ipykernel/ipkernel.py:283: DeprecationWarning: `should_run_async` will not call `transform_cell` automatically in the future. Please pass the result to `transformed_cell` argument and any exception that happen during thetransform in `preprocessing_exc_tuple` in IPython 7.17 and above.\n",
            "  and should_run_async(code)\n"
          ]
        },
        {
          "output_type": "stream",
          "name": "stdout",
          "text": [
            "2023-05-02 22:28:34.794788: W tensorflow/compiler/tf2tensorrt/utils/py_utils.cc:38] TF-TRT Warning: Could not find TensorRT\n",
            "\u001b[38;5;3m⚠ As of spaCy v3.0, shortcuts like 'en' are deprecated. Please use the\n",
            "full pipeline package name 'en_core_web_sm' instead.\u001b[0m\n",
            "Looking in indexes: https://pypi.org/simple, https://us-python.pkg.dev/colab-wheels/public/simple/\n",
            "Collecting en-core-web-sm==3.5.0\n",
            "  Using cached https://github.com/explosion/spacy-models/releases/download/en_core_web_sm-3.5.0/en_core_web_sm-3.5.0-py3-none-any.whl (12.8 MB)\n",
            "Requirement already satisfied: spacy<3.6.0,>=3.5.0 in /usr/local/lib/python3.10/dist-packages (from en-core-web-sm==3.5.0) (3.5.2)\n",
            "Requirement already satisfied: cymem<2.1.0,>=2.0.2 in /usr/local/lib/python3.10/dist-packages (from spacy<3.6.0,>=3.5.0->en-core-web-sm==3.5.0) (2.0.7)\n",
            "Requirement already satisfied: jinja2 in /usr/local/lib/python3.10/dist-packages (from spacy<3.6.0,>=3.5.0->en-core-web-sm==3.5.0) (3.1.2)\n",
            "Requirement already satisfied: thinc<8.2.0,>=8.1.8 in /usr/local/lib/python3.10/dist-packages (from spacy<3.6.0,>=3.5.0->en-core-web-sm==3.5.0) (8.1.9)\n",
            "Requirement already satisfied: requests<3.0.0,>=2.13.0 in /usr/local/lib/python3.10/dist-packages (from spacy<3.6.0,>=3.5.0->en-core-web-sm==3.5.0) (2.27.1)\n",
            "Requirement already satisfied: packaging>=20.0 in /usr/local/lib/python3.10/dist-packages (from spacy<3.6.0,>=3.5.0->en-core-web-sm==3.5.0) (23.1)\n",
            "Requirement already satisfied: spacy-legacy<3.1.0,>=3.0.11 in /usr/local/lib/python3.10/dist-packages (from spacy<3.6.0,>=3.5.0->en-core-web-sm==3.5.0) (3.0.12)\n",
            "Requirement already satisfied: numpy>=1.15.0 in /usr/local/lib/python3.10/dist-packages (from spacy<3.6.0,>=3.5.0->en-core-web-sm==3.5.0) (1.24.3)\n",
            "Requirement already satisfied: pathy>=0.10.0 in /usr/local/lib/python3.10/dist-packages (from spacy<3.6.0,>=3.5.0->en-core-web-sm==3.5.0) (0.10.1)\n",
            "Requirement already satisfied: setuptools in /usr/local/lib/python3.10/dist-packages (from spacy<3.6.0,>=3.5.0->en-core-web-sm==3.5.0) (67.7.2)\n",
            "Requirement already satisfied: typer<0.8.0,>=0.3.0 in /usr/local/lib/python3.10/dist-packages (from spacy<3.6.0,>=3.5.0->en-core-web-sm==3.5.0) (0.7.0)\n",
            "Requirement already satisfied: smart-open<7.0.0,>=5.2.1 in /usr/local/lib/python3.10/dist-packages (from spacy<3.6.0,>=3.5.0->en-core-web-sm==3.5.0) (6.3.0)\n",
            "Requirement already satisfied: preshed<3.1.0,>=3.0.2 in /usr/local/lib/python3.10/dist-packages (from spacy<3.6.0,>=3.5.0->en-core-web-sm==3.5.0) (3.0.8)\n",
            "Requirement already satisfied: tqdm<5.0.0,>=4.38.0 in /usr/local/lib/python3.10/dist-packages (from spacy<3.6.0,>=3.5.0->en-core-web-sm==3.5.0) (4.65.0)\n",
            "Requirement already satisfied: langcodes<4.0.0,>=3.2.0 in /usr/local/lib/python3.10/dist-packages (from spacy<3.6.0,>=3.5.0->en-core-web-sm==3.5.0) (3.3.0)\n",
            "Requirement already satisfied: catalogue<2.1.0,>=2.0.6 in /usr/local/lib/python3.10/dist-packages (from spacy<3.6.0,>=3.5.0->en-core-web-sm==3.5.0) (2.0.8)\n",
            "Requirement already satisfied: srsly<3.0.0,>=2.4.3 in /usr/local/lib/python3.10/dist-packages (from spacy<3.6.0,>=3.5.0->en-core-web-sm==3.5.0) (2.4.6)\n",
            "Requirement already satisfied: pydantic!=1.8,!=1.8.1,<1.11.0,>=1.7.4 in /usr/local/lib/python3.10/dist-packages (from spacy<3.6.0,>=3.5.0->en-core-web-sm==3.5.0) (1.10.7)\n",
            "Requirement already satisfied: spacy-loggers<2.0.0,>=1.0.0 in /usr/local/lib/python3.10/dist-packages (from spacy<3.6.0,>=3.5.0->en-core-web-sm==3.5.0) (1.0.4)\n",
            "Requirement already satisfied: murmurhash<1.1.0,>=0.28.0 in /usr/local/lib/python3.10/dist-packages (from spacy<3.6.0,>=3.5.0->en-core-web-sm==3.5.0) (1.0.9)\n",
            "Requirement already satisfied: wasabi<1.2.0,>=0.9.1 in /usr/local/lib/python3.10/dist-packages (from spacy<3.6.0,>=3.5.0->en-core-web-sm==3.5.0) (1.1.1)\n",
            "Requirement already satisfied: typing-extensions>=4.2.0 in /usr/local/lib/python3.10/dist-packages (from pydantic!=1.8,!=1.8.1,<1.11.0,>=1.7.4->spacy<3.6.0,>=3.5.0->en-core-web-sm==3.5.0) (4.5.0)\n",
            "Requirement already satisfied: certifi>=2017.4.17 in /usr/local/lib/python3.10/dist-packages (from requests<3.0.0,>=2.13.0->spacy<3.6.0,>=3.5.0->en-core-web-sm==3.5.0) (2022.12.7)\n",
            "Requirement already satisfied: urllib3<1.27,>=1.21.1 in /usr/local/lib/python3.10/dist-packages (from requests<3.0.0,>=2.13.0->spacy<3.6.0,>=3.5.0->en-core-web-sm==3.5.0) (1.26.15)\n",
            "Requirement already satisfied: charset-normalizer~=2.0.0 in /usr/local/lib/python3.10/dist-packages (from requests<3.0.0,>=2.13.0->spacy<3.6.0,>=3.5.0->en-core-web-sm==3.5.0) (2.0.12)\n",
            "Requirement already satisfied: idna<4,>=2.5 in /usr/local/lib/python3.10/dist-packages (from requests<3.0.0,>=2.13.0->spacy<3.6.0,>=3.5.0->en-core-web-sm==3.5.0) (3.4)\n",
            "Requirement already satisfied: blis<0.8.0,>=0.7.8 in /usr/local/lib/python3.10/dist-packages (from thinc<8.2.0,>=8.1.8->spacy<3.6.0,>=3.5.0->en-core-web-sm==3.5.0) (0.7.9)\n",
            "Requirement already satisfied: confection<1.0.0,>=0.0.1 in /usr/local/lib/python3.10/dist-packages (from thinc<8.2.0,>=8.1.8->spacy<3.6.0,>=3.5.0->en-core-web-sm==3.5.0) (0.0.4)\n",
            "Requirement already satisfied: click<9.0.0,>=7.1.1 in /usr/local/lib/python3.10/dist-packages (from typer<0.8.0,>=0.3.0->spacy<3.6.0,>=3.5.0->en-core-web-sm==3.5.0) (8.1.3)\n",
            "Requirement already satisfied: MarkupSafe>=2.0 in /usr/local/lib/python3.10/dist-packages (from jinja2->spacy<3.6.0,>=3.5.0->en-core-web-sm==3.5.0) (2.1.2)\n",
            "\u001b[38;5;2m✔ Download and installation successful\u001b[0m\n",
            "You can now load the package via spacy.load('en_core_web_sm')\n",
            "[['regard', 'aircraft', 'seat', 'business', 'class', 'seat', 'flight', 'pretty', 'good', 'suite', 'type', 'seat', 'booth', 'slide', 'door', 'extra', 'privacy', 'downside', 'travel', 'couple', 'quite', 'difficult', 'interact', 'ample', 'storage', 'usb', 'charge', 'port', 'seat', 'pretty', 'comfortable', 'find', 'difficult', 'sleep', 'flight', 'time', 've', 'able', 'get', 'minute', 'sleep', 'amenity', 'provide', 'pretty', 'average', 'compare', 'airline', 'leather', 'toiletry', 'bag', 'quite', 'nice', 'slipper', 'pair', 'sock', 'restroom', 'flight', 'small', 'provide', 'much', 'way', 'toiletry', 'compare', 'airline', 'free', 'business', 'class', 'acceptable', 'example', 'penny_pinche', 'recent', 'year', 'regard', 'staff', 'customer', 'service', 'poor', 'inattentive', 'meal', 'time', 'offer', 'water', 'flight', 'go', 'find', 'attendant', 'ask', 'also', 'offer', 'snack', 'rude', 'partner', 'ask', 'fork', 'replace', 'provide', 'quite', 'clearly', 'dirty', 'attendant', 'incredibly', 'rude', 'response', 'leave', 'shock', 'different', 'customer', 'seem', 'receive', 'different', 'quality', 'service', 'customer', 'behind', 'repeatedly', 'greet', 'politely', 'name', 'ask', 'need', 'partner', 'afford', 'level', 'personal', 'service', 'disappoint', 'pay', 'price', 'ticket', 'expect', 'level', 'service', 'food', 'pretty', 'bad', 'risotto', 'partner', 'chicken', 'extremely', 'cook', 'rice', 'look', 'porridge', 'vegetable', 'discolour', 'flavourless', 'bread', 'nice', 'breakfast', 'much', 'well', 'summary', 'become', 'ryanair', 'long_haul', 'customer', 'service', 'way', 'expect', 'premium', 'airline', 'premium', 'seat', 'pay', 'premium', 'price', 'average', 'service', 'option', 'available', 'choose', 'day']]\n"
          ]
        }
      ]
    },
    {
      "cell_type": "code",
      "source": [
        "# Create Dictionary\n",
        "id2word = corpora.Dictionary(data_lemmatized)\n",
        "\n",
        "# Create Corpus\n",
        "texts = data_lemmatized\n",
        "\n",
        "# Term Document Frequency\n",
        "corpus = [id2word.doc2bow(text) for text in texts]\n",
        "\n",
        "# View\n",
        "print(corpus[:1])"
      ],
      "metadata": {
        "colab": {
          "base_uri": "https://localhost:8080/"
        },
        "id": "ZyY7ag9TlmNC",
        "outputId": "0bf17ad6-872b-4ed5-f706-9eefbe15f5d2"
      },
      "execution_count": 29,
      "outputs": [
        {
          "output_type": "stream",
          "name": "stderr",
          "text": [
            "/usr/local/lib/python3.10/dist-packages/ipykernel/ipkernel.py:283: DeprecationWarning: `should_run_async` will not call `transform_cell` automatically in the future. Please pass the result to `transformed_cell` argument and any exception that happen during thetransform in `preprocessing_exc_tuple` in IPython 7.17 and above.\n",
            "  and should_run_async(code)\n"
          ]
        },
        {
          "output_type": "stream",
          "name": "stdout",
          "text": [
            "[[(0, 1), (1, 1), (2, 1), (3, 1), (4, 3), (5, 1), (6, 1), (7, 1), (8, 3), (9, 2), (10, 1), (11, 2), (12, 1), (13, 1), (14, 1), (15, 1), (16, 1), (17, 1), (18, 1), (19, 2), (20, 1), (21, 1), (22, 1), (23, 2), (24, 1), (25, 1), (26, 2), (27, 1), (28, 1), (29, 4), (30, 1), (31, 2), (32, 2), (33, 1), (34, 1), (35, 1), (36, 1), (37, 1), (38, 1), (39, 2), (40, 1), (41, 1), (42, 2), (43, 1), (44, 4), (45, 1), (46, 1), (47, 1), (48, 1), (49, 1), (50, 1), (51, 1), (52, 1), (53, 1), (54, 1), (55, 1), (56, 1), (57, 2), (58, 1), (59, 1), (60, 1), (61, 1), (62, 2), (63, 1), (64, 1), (65, 2), (66, 2), (67, 1), (68, 1), (69, 3), (70, 2), (71, 1), (72, 1), (73, 1), (74, 1), (75, 1), (76, 1), (77, 3), (78, 4), (79, 2), (80, 1), (81, 3), (82, 1), (83, 3), (84, 1), (85, 1), (86, 2), (87, 1), (88, 1), (89, 1), (90, 1), (91, 1), (92, 1), (93, 2), (94, 1), (95, 5), (96, 1), (97, 6), (98, 1), (99, 2), (100, 1), (101, 1), (102, 1), (103, 1), (104, 1), (105, 1), (106, 1), (107, 1), (108, 1), (109, 1), (110, 2), (111, 2), (112, 1), (113, 1), (114, 1), (115, 1), (116, 1), (117, 1), (118, 2), (119, 1), (120, 1)]]\n"
          ]
        }
      ]
    },
    {
      "cell_type": "code",
      "source": [
        "# Build LDA model\n",
        "lda_model = gensim.models.ldamodel.LdaModel(corpus=corpus,\n",
        "                                           id2word=id2word,\n",
        "                                           num_topics=10, \n",
        "                                           random_state=100,\n",
        "                                           update_every=1,\n",
        "                                           chunksize=100,\n",
        "                                           passes=10,\n",
        "                                           alpha='auto',\n",
        "                                           per_word_topics=True)"
      ],
      "metadata": {
        "colab": {
          "base_uri": "https://localhost:8080/"
        },
        "id": "lUnB70HLlvCH",
        "outputId": "0050c479-31a0-4557-e52e-8d0814ced3e7"
      },
      "execution_count": 183,
      "outputs": [
        {
          "output_type": "stream",
          "name": "stderr",
          "text": [
            "/usr/local/lib/python3.10/dist-packages/ipykernel/ipkernel.py:283: DeprecationWarning: `should_run_async` will not call `transform_cell` automatically in the future. Please pass the result to `transformed_cell` argument and any exception that happen during thetransform in `preprocessing_exc_tuple` in IPython 7.17 and above.\n",
            "  and should_run_async(code)\n"
          ]
        }
      ]
    },
    {
      "cell_type": "code",
      "source": [
        "import pprint as pprint"
      ],
      "metadata": {
        "colab": {
          "base_uri": "https://localhost:8080/"
        },
        "id": "OKKg3BL4vDwD",
        "outputId": "ededbb8b-ff5d-46e5-97d8-840488cdb2dd"
      },
      "execution_count": 184,
      "outputs": [
        {
          "output_type": "stream",
          "name": "stderr",
          "text": [
            "/usr/local/lib/python3.10/dist-packages/ipykernel/ipkernel.py:283: DeprecationWarning: `should_run_async` will not call `transform_cell` automatically in the future. Please pass the result to `transformed_cell` argument and any exception that happen during thetransform in `preprocessing_exc_tuple` in IPython 7.17 and above.\n",
            "  and should_run_async(code)\n"
          ]
        }
      ]
    },
    {
      "cell_type": "code",
      "source": [
        "# Print the Keyword in the 10 topics\n",
        "print(lda_model.print_topics())\n",
        "doc_lda = lda_model[corpus]"
      ],
      "metadata": {
        "colab": {
          "base_uri": "https://localhost:8080/"
        },
        "id": "i2uVVWFbl2qD",
        "outputId": "b634bd0a-2130-4067-e4bc-cb5bf142b5be"
      },
      "execution_count": 185,
      "outputs": [
        {
          "output_type": "stream",
          "name": "stdout",
          "text": [
            "[(0, '0.064*\"steward\" + 0.052*\"sound\" + 0.029*\"sale\" + 0.028*\"particular\" + 0.024*\"lax\" + 0.023*\"realise\" + 0.021*\"conversation\" + 0.018*\"freeze\" + 0.015*\"compartment\" + 0.015*\"operator\"'), (1, '0.055*\"flight\" + 0.051*\"good\" + 0.038*\"food\" + 0.032*\"crew\" + 0.023*\"cabin\" + 0.021*\"well\" + 0.019*\"time\" + 0.018*\"excellent\" + 0.017*\"new\" + 0.017*\"fly\"'), (2, '0.291*\"seat\" + 0.026*\"leg\" + 0.024*\"front\" + 0.024*\"space\" + 0.022*\"row\" + 0.021*\"sit\" + 0.020*\"window\" + 0.014*\"uncomfortable\" + 0.014*\"cramp\" + 0.014*\"leg_room\"'), (3, '0.038*\"get\" + 0.025*\"fly\" + 0.021*\"travel\" + 0.021*\"go\" + 0.021*\"flight\" + 0.019*\"back\" + 0.018*\"ba\" + 0.015*\"book\" + 0.014*\"service\" + 0.014*\"say\"'), (4, '0.087*\"flight\" + 0.040*\"hour\" + 0.037*\"check\" + 0.020*\"delay\" + 0.020*\"staff\" + 0.017*\"arrive\" + 0.017*\"bag\" + 0.016*\"time\" + 0.016*\"minute\" + 0.015*\"late\"'), (5, '0.030*\"service\" + 0.027*\"drink\" + 0.024*\"lounge\" + 0.024*\"meal\" + 0.022*\"cabin\" + 0.020*\"serve\" + 0.018*\"choice\" + 0.018*\"crew\" + 0.017*\"offer\" + 0.016*\"food\"'), (6, '0.063*\"fas\" + 0.039*\"write\" + 0.031*\"barbado\" + 0.026*\"surly\" + 0.019*\"map\" + 0.019*\"virtually\" + 0.018*\"volume\" + 0.018*\"female\" + 0.016*\"jacket\" + 0.016*\"manner\"'), (7, '0.206*\"class\" + 0.171*\"business\" + 0.058*\"first\" + 0.025*\"tired\" + 0.016*\"section\" + 0.014*\"design\" + 0.011*\"fit\" + 0.011*\"stewardess\" + 0.009*\"normally\" + 0.009*\"fully\"'), (8, '0.076*\"economy\" + 0.044*\"pay\" + 0.034*\"fly\" + 0.033*\"premium\" + 0.027*\"extra\" + 0.022*\"route\" + 0.022*\"upgrade\" + 0.020*\"money\" + 0.019*\"ba\" + 0.017*\"far\"'), (9, '0.100*\"airline\" + 0.032*\"bad\" + 0.026*\"awful\" + 0.024*\"poor\" + 0.018*\"emirate\" + 0.014*\"recently\" + 0.013*\"avio\" + 0.013*\"year\" + 0.011*\"dirty\" + 0.010*\"low\"')]\n"
          ]
        },
        {
          "output_type": "stream",
          "name": "stderr",
          "text": [
            "/usr/local/lib/python3.10/dist-packages/ipykernel/ipkernel.py:283: DeprecationWarning: `should_run_async` will not call `transform_cell` automatically in the future. Please pass the result to `transformed_cell` argument and any exception that happen during thetransform in `preprocessing_exc_tuple` in IPython 7.17 and above.\n",
            "  and should_run_async(code)\n"
          ]
        }
      ]
    },
    {
      "cell_type": "code",
      "source": [
        "from gensim.models import CoherenceModel"
      ],
      "metadata": {
        "colab": {
          "base_uri": "https://localhost:8080/"
        },
        "id": "Nxy9yI-NmOE8",
        "outputId": "3790ebd0-a29b-4035-c51b-fc210f519f5a"
      },
      "execution_count": 186,
      "outputs": [
        {
          "output_type": "stream",
          "name": "stderr",
          "text": [
            "/usr/local/lib/python3.10/dist-packages/ipykernel/ipkernel.py:283: DeprecationWarning: `should_run_async` will not call `transform_cell` automatically in the future. Please pass the result to `transformed_cell` argument and any exception that happen during thetransform in `preprocessing_exc_tuple` in IPython 7.17 and above.\n",
            "  and should_run_async(code)\n"
          ]
        }
      ]
    },
    {
      "cell_type": "code",
      "source": [
        "# Compute Perplexity\n",
        "print('\\nPerplexity: ', lda_model.log_perplexity(corpus))  # a measure of how good the model is. lower the better.\n",
        "\n",
        "# Compute Coherence Score\n",
        "coherence_model_lda = CoherenceModel(model=lda_model, texts=data_lemmatized, dictionary=id2word, coherence='c_v')\n",
        "coherence_lda = coherence_model_lda.get_coherence()\n",
        "print('\\nCoherence Score: ', coherence_lda)"
      ],
      "metadata": {
        "colab": {
          "base_uri": "https://localhost:8080/"
        },
        "id": "BOPBy2WumGoR",
        "outputId": "52bec076-42e5-4f25-a8be-35ebc5b59724"
      },
      "execution_count": 187,
      "outputs": [
        {
          "output_type": "stream",
          "name": "stderr",
          "text": [
            "/usr/local/lib/python3.10/dist-packages/ipykernel/ipkernel.py:283: DeprecationWarning: `should_run_async` will not call `transform_cell` automatically in the future. Please pass the result to `transformed_cell` argument and any exception that happen during thetransform in `preprocessing_exc_tuple` in IPython 7.17 and above.\n",
            "  and should_run_async(code)\n"
          ]
        },
        {
          "output_type": "stream",
          "name": "stdout",
          "text": [
            "\n",
            "Perplexity:  -7.4072000311087205\n",
            "\n",
            "Coherence Score:  0.42987149036488725\n"
          ]
        }
      ]
    },
    {
      "cell_type": "code",
      "source": [
        "# Visualize the topics\n",
        "pyLDAvis.enable_notebook()\n",
        "vis = pyLDAvis.gensim.prepare(lda_model, corpus, id2word)\n",
        "vis"
      ],
      "metadata": {
        "colab": {
          "base_uri": "https://localhost:8080/",
          "height": 916
        },
        "id": "0rhm_k-fmc9k",
        "outputId": "e45910d3-ec1e-47e6-c301-3a495fbb7325"
      },
      "execution_count": 188,
      "outputs": [
        {
          "output_type": "stream",
          "name": "stderr",
          "text": [
            "/usr/local/lib/python3.10/dist-packages/ipykernel/ipkernel.py:283: DeprecationWarning: `should_run_async` will not call `transform_cell` automatically in the future. Please pass the result to `transformed_cell` argument and any exception that happen during thetransform in `preprocessing_exc_tuple` in IPython 7.17 and above.\n",
            "  and should_run_async(code)\n"
          ]
        },
        {
          "output_type": "execute_result",
          "data": {
            "text/plain": [
              "PreparedData(topic_coordinates=              x         y  topics  cluster       Freq\n",
              "topic                                                \n",
              "3      0.204316  0.118697       1        1  20.988681\n",
              "1      0.238934 -0.024568       2        1  19.574916\n",
              "5      0.182291 -0.095758       3        1  18.585488\n",
              "4      0.208019  0.042313       4        1  18.258263\n",
              "8      0.025457  0.119758       5        1   7.632003\n",
              "2     -0.062497 -0.375522       6        1   6.666086\n",
              "9     -0.143782  0.151008       7        1   4.386737\n",
              "7     -0.206129 -0.013122       8        1   3.153969\n",
              "0     -0.223937  0.038629       9        1   0.380520\n",
              "6     -0.222670  0.038566      10        1   0.373338, topic_info=             Term         Freq        Total Category  logprob  loglift\n",
              "95           seat  4755.000000  4755.000000  Default  30.0000  30.0000\n",
              "23          class  1561.000000  1561.000000  Default  29.0000  29.0000\n",
              "19       business  1294.000000  1294.000000  Default  28.0000  28.0000\n",
              "44         flight  7694.000000  7694.000000  Default  27.0000  27.0000\n",
              "50           good  2404.000000  2404.000000  Default  26.0000  26.0000\n",
              "...           ...          ...          ...      ...      ...      ...\n",
              "935     knowledge     2.624961     3.548985  Topic10  -5.8314   5.2888\n",
              "2385  appreciated     1.036846     1.960602  Topic10  -6.7603   4.9534\n",
              "302       capable     0.724262     1.647985  Topic10  -7.1191   4.7683\n",
              "3945       gather     0.602499     1.526252  Topic10  -7.3031   4.6610\n",
              "3134     kindness     0.544361     1.468092  Topic10  -7.4046   4.5983\n",
              "\n",
              "[479 rows x 6 columns], token_table=      Topic      Freq         Term\n",
              "term                              \n",
              "296       1  0.989680   absolutely\n",
              "454       3  0.992741       access\n",
              "1470      7  0.988185  accommodate\n",
              "1604     10  0.885962        admit\n",
              "3         2  0.858159     aircraft\n",
              "...     ...       ...          ...\n",
              "3821      6  0.978369         wrap\n",
              "335      10  0.974272        write\n",
              "120       1  0.693077         year\n",
              "120       5  0.066507         year\n",
              "120       7  0.238027         year\n",
              "\n",
              "[651 rows x 3 columns], R=30, lambda_step=0.01, plot_opts={'xlab': 'PC1', 'ylab': 'PC2'}, topic_order=[4, 2, 6, 5, 9, 3, 10, 8, 1, 7])"
            ],
            "text/html": [
              "\n",
              "<link rel=\"stylesheet\" type=\"text/css\" href=\"https://cdn.jsdelivr.net/gh/bmabey/pyLDAvis@3.4.0/pyLDAvis/js/ldavis.v1.0.0.css\">\n",
              "\n",
              "\n",
              "<div id=\"ldavis_el11501406775064976961689197741\" style=\"background-color:white;\"></div>\n",
              "<script type=\"text/javascript\">\n",
              "\n",
              "var ldavis_el11501406775064976961689197741_data = {\"mdsDat\": {\"x\": [0.20431602437493707, 0.23893409466026197, 0.18229071018726564, 0.20801864238157694, 0.025456604778571045, -0.06249745303177852, -0.14378235764752748, -0.20612944380058562, -0.22393677777553825, -0.2226700441271828], \"y\": [0.11869692753400556, -0.024568337439072684, -0.09575800869532639, 0.042312799415694984, 0.11975813916756854, -0.3755222614694974, 0.15100807394541954, -0.013122490768141261, 0.03862895053930294, 0.038566207770046344], \"topics\": [1, 2, 3, 4, 5, 6, 7, 8, 9, 10], \"cluster\": [1, 1, 1, 1, 1, 1, 1, 1, 1, 1], \"Freq\": [20.988681022194722, 19.5749163667773, 18.585488202331433, 18.25826257170316, 7.632002885705376, 6.666086004455769, 4.386736717263575, 3.1539686489953653, 0.3805198970327889, 0.37333768354051516]}, \"tinfo\": {\"Term\": [\"seat\", \"class\", \"business\", \"flight\", \"good\", \"airline\", \"economy\", \"first\", \"hour\", \"check\", \"food\", \"fly\", \"crew\", \"get\", \"pay\", \"drink\", \"cabin\", \"meal\", \"lounge\", \"travel\", \"premium\", \"serve\", \"delay\", \"bad\", \"go\", \"ba\", \"choice\", \"excellent\", \"extra\", \"comfortable\", \"travel\", \"book\", \"try\", \"want\", \"ticket\", \"person\", \"review\", \"reason\", \"complain\", \"month\", \"week\", \"child\", \"m\", \"care\", \"pass\", \"family\", \"set\", \"possible\", \"understand\", \"holiday\", \"stop\", \"table\", \"alternative\", \"sure\", \"notice\", \"man\", \"absolutely\", \"husband\", \"head\", \"customer\", \"change\", \"never\", \"say\", \"ever\", \"know\", \"call\", \"people\", \"get\", \"back\", \"go\", \"ask\", \"last\", \"give\", \"even\", \"ba\", \"fly\", \"put\", \"different\", \"year\", \"need\", \"way\", \"see\", \"come\", \"tell\", \"make\", \"service\", \"flight\", \"time\", \"good\", \"excellent\", \"comfortable\", \"great\", \"nice\", \"friendly\", \"overall\", \"selection\", \"entertainment\", \"ife\", \"plenty\", \"attentive\", \"pretty\", \"professional\", \"movie\", \"big\", \"easy\", \"fast\", \"especially\", \"smooth\", \"average\", \"film\", \"tasty\", \"watch\", \"polite\", \"inflight_entertainment\", \"enjoy\", \"job\", \"old\", \"bed\", \"quality\", \"really\", \"efficient\", \"bit\", \"new\", \"pleasant\", \"quite\", \"sleep\", \"product\", \"aircraft\", \"food\", \"much\", \"enough\", \"well\", \"helpful\", \"crew\", \"experience\", \"cabin\", \"flight\", \"time\", \"screen\", \"fly\", \"first\", \"return\", \"staff\", \"plane\", \"service\", \"drink\", \"meal\", \"serve\", \"choice\", \"breakfast\", \"snack\", \"dinner\", \"rather\", \"quick\", \"sandwich\", \"hot\", \"champagne\", \"eat\", \"priority\", \"coffee\", \"definitely\", \"main\", \"quickly\", \"quiet\", \"busy\", \"menu\", \"lunch\", \"improve\", \"smile\", \"glass\", \"tea\", \"chicken\", \"water\", \"salad\", \"access\", \"lounge\", \"standard\", \"welcome\", \"club_europe\", \"full\", \"boarding\", \"ok\", \"offer\", \"toilet\", \"club\", \"service\", \"cabin\", \"start\", \"crew\", \"run\", \"passenger\", \"food\", \"little\", \"take\", \"seem\", \"option\", \"time\", \"look\", \"check\", \"delay\", \"arrive\", \"bag\", \"late\", \"wait\", \"luggage\", \"baggage\", \"airport\", \"miss\", \"online\", \"due\", \"line\", \"transfer\", \"lose\", \"slightly\", \"stand\", \"finally\", \"connection\", \"particularly\", \"case\", \"soon\", \"open\", \"schedule\", \"depart\", \"inform\", \"explanation\", \"information\", \"morning\", \"pm\", \"min\", \"carry\", \"hour\", \"gate\", \"minute\", \"flight\", \"departure\", \"day\", \"leave\", \"staff\", \"heathrow\", \"queue\", \"plane\", \"passenger\", \"time\", \"take\", \"tell\", \"later\", \"board\", \"get\", \"find\", \"return\", \"go\", \"premium\", \"route\", \"upgrade\", \"price\", \"extra\", \"carrier\", \"cheap\", \"long_haul\", \"fare\", \"configuration\", \"limit\", \"difference\", \"pitch\", \"recent\", \"consist\", \"certainly\", \"easyjet\", \"operate\", \"spacious\", \"comment\", \"regular\", \"negative\", \"glasgow\", \"disappointment\", \"superb\", \"mile\", \"stuff\", \"reserve\", \"major\", \"pay\", \"economy\", \"charge\", \"free\", \"apart\", \"far\", \"ryanair\", \"legroom\", \"money\", \"choose\", \"worth\", \"expect\", \"use\", \"fly\", \"gatwick\", \"ba\", \"return\", \"value\", \"offer\", \"leg\", \"front\", \"space\", \"window\", \"row\", \"uncomfortable\", \"cramp\", \"leg_room\", \"narrow\", \"face\", \"middle\", \"recline\", \"seating\", \"empty\", \"condition\", \"layout\", \"share\", \"video\", \"inbound\", \"strange\", \"inch\", \"expectation\", \"plastic\", \"takeoff\", \"relaxed\", \"tight\", \"sense\", \"wrap\", \"wide\", \"airplane\", \"seat\", \"rest\", \"headphone\", \"room\", \"sit\", \"together\", \"large\", \"move\", \"plane\", \"small\", \"passenger\", \"outbound\", \"also\", \"screen\", \"put\", \"awful\", \"emirate\", \"recently\", \"avio\", \"dirty\", \"low\", \"generally\", \"prefer\", \"plan\", \"fall\", \"budget\", \"okay\", \"allocate\", \"select\", \"impression\", \"world_traveller\", \"guess\", \"sadly\", \"word\", \"gold\", \"policy\", \"accommodate\", \"looking_forward\", \"insult\", \"companion\", \"portion\", \"disintereste\", \"occasion\", \"wonder\", \"maybe\", \"airline\", \"world\", \"simply\", \"bad\", \"other\", \"poor\", \"level\", \"terrible\", \"year\", \"rude\", \"almost\", \"even\", \"direct\", \"class\", \"business\", \"tired\", \"section\", \"design\", \"fit\", \"stewardess\", \"normally\", \"fully\", \"mediocre\", \"cattle\", \"direction\", \"save\", \"cook\", \"climb\", \"mostly\", \"dining\", \"steak\", \"brand\", \"block\", \"stare\", \"comparison\", \"ancient\", \"rear_face\", \"amenity_kit\", \"bathroom\", \"claustrophobic\", \"storage_space\", \"angle\", \"highly\", \"first\", \"lounge\", \"steward\", \"sound\", \"sale\", \"particular\", \"lax\", \"realise\", \"conversation\", \"freeze\", \"compartment\", \"operator\", \"apologetic\", \"opt\", \"non_existent\", \"ever_experience\", \"mother\", \"well_maintaine\", \"worst\", \"somewhere\", \"effectively\", \"distant\", \"challenge\", \"wet\", \"russian\", \"cheek\", \"recover\", \"sister\", \"fetch\", \"heart\", \"reference\", \"efficiency\", \"fas\", \"write\", \"barbado\", \"surly\", \"map\", \"virtually\", \"volume\", \"female\", \"jacket\", \"manner\", \"ride\", \"exception\", \"nervous\", \"credit_card\", \"mid\", \"dollar\", \"sugar\", \"cream\", \"create\", \"admit\", \"prevent\", \"rank\", \"sweet\", \"safely\", \"redeem\", \"knowledge\", \"appreciated\", \"capable\", \"gather\", \"kindness\"], \"Freq\": [4755.0, 1561.0, 1294.0, 7694.0, 2404.0, 1175.0, 1434.0, 1202.0, 1819.0, 1612.0, 2486.0, 2671.0, 2287.0, 2424.0, 820.0, 1204.0, 2080.0, 1078.0, 1128.0, 1078.0, 599.0, 896.0, 886.0, 613.0, 1350.0, 1572.0, 815.0, 827.0, 491.0, 775.0, 1078.0787229132807, 751.165235830828, 523.4889163050299, 418.0796605016649, 301.38154806967736, 269.1960137018503, 213.10448756616725, 208.83409241448308, 205.14704272638232, 189.83668360522492, 181.56173169468045, 178.61190925349817, 177.91065802167904, 177.2009046456665, 161.40349914040544, 152.60808952704693, 149.58551871158173, 142.53349367368165, 133.6261977164888, 132.02956296043462, 127.55769275544021, 127.45946137046194, 126.13160445377783, 125.64082227904375, 124.83014400129746, 119.57837187522378, 117.36406688336737, 101.60862168477978, 98.12971643169467, 524.1811266893046, 430.7306168425933, 525.2299118482357, 702.0014816340204, 209.91555110275246, 346.4828466083243, 416.9074420096781, 461.5565342179064, 1931.4801112782043, 943.141403216819, 1067.5533963082412, 632.0067715068419, 439.5999693463611, 644.6854593594094, 588.8390198265906, 914.9993527804402, 1244.4827827540123, 310.80857565125456, 263.28238595424205, 395.92049632633746, 368.3718393421342, 464.3809793095921, 379.30836055725445, 380.7867967715125, 422.04372082165355, 466.86618182139574, 712.2889355767234, 1051.8743181651428, 338.8654875362753, 2403.7081083562257, 826.88162037724, 774.5940640177931, 681.5835889755248, 628.2859557269757, 613.3435457890643, 467.1910994340543, 425.7816168103919, 324.9797660170836, 324.82980542357825, 264.92261259730697, 257.78459756757, 245.8169558138027, 201.90936780437625, 179.84080425002327, 171.39274745572666, 170.23897926522923, 165.7709072044769, 155.7046194200606, 149.60471834013435, 183.2025865397951, 136.9359207043082, 132.05376954516007, 128.63998708163157, 128.1159987732981, 121.2657486202607, 120.99372250650659, 113.94155527465395, 776.3962998235563, 105.91806280597565, 377.01652884790195, 686.6884529141461, 297.5688918159661, 371.86850072388125, 812.1629826636356, 269.67523843392195, 386.42029225930736, 350.78731791053843, 321.28402924027466, 688.3203911544368, 1784.4287443711557, 576.268874541423, 331.9429835713319, 996.8945119304838, 254.5594945834883, 1493.7513336798572, 645.9122343262767, 1072.494136104427, 2584.7317117696184, 890.2323147329486, 345.1528626202866, 789.2658677164702, 545.0141160405317, 536.4154433260284, 457.4780218195848, 418.53877135265316, 468.5775959804448, 1203.536308230031, 1077.284817596315, 896.0297747861979, 814.6268238632957, 648.5427431600828, 367.7260941838498, 358.82034038773725, 303.3023717226592, 295.6239335792483, 292.1192107027363, 261.1507905459589, 239.48262146510393, 227.03217863622095, 214.1388726342249, 212.20741013609828, 195.65256542600187, 193.14954748720422, 186.5076368950821, 164.96886524489508, 165.21409608641096, 163.13379232186531, 163.03491393579233, 162.40802393108507, 157.837281093217, 148.077035528629, 147.50455715388765, 145.97096220043457, 194.48842409191136, 131.49684642675888, 131.07948319610557, 1090.9638204833875, 327.6717303162871, 180.1053158395966, 356.8007117607808, 547.4298196323543, 675.2144593075569, 230.5666428038978, 749.0795899072002, 279.244155981232, 335.5517414086741, 1322.2632936792104, 984.7519039881048, 299.22240166919494, 793.2802921209243, 244.9919571423496, 522.5740229334394, 701.0387353176546, 305.67534928795345, 409.7798236090048, 317.97380872656004, 268.2987386298051, 389.5222711092443, 263.4826819900553, 1611.3804152596983, 885.3545570159359, 734.1289682180961, 724.9190105036424, 665.8958922508175, 521.9049523774092, 350.2319795378233, 331.601631823739, 323.09668746440707, 217.5715998003389, 214.04926326545606, 614.3731120198979, 226.85682250912288, 195.19744005370765, 192.49012112527018, 175.8422134269835, 172.4824892147186, 171.143367263617, 169.70313471848064, 168.1265021991849, 165.91800232629592, 163.31070393309605, 150.88264815028398, 144.81067427633093, 184.62311584890628, 132.83297577618842, 130.1462151529159, 129.33432509834645, 127.11448657647402, 126.58755011643828, 283.3482741118326, 161.07500352760528, 1749.1718341924216, 362.63615590175203, 683.7269314300938, 3793.6158613670036, 319.2569095078493, 456.6163391580081, 442.3656235666368, 860.0582654455708, 446.4815633350933, 234.7239500350715, 545.4739388153025, 574.0622079530629, 712.6105148146936, 483.40603165540057, 373.3953011037301, 217.66465210924707, 280.51128912386116, 383.16296142370913, 265.7416851701153, 287.49553014891, 282.7087457842631, 598.794413639348, 408.2340058033108, 407.0093615637085, 308.60544271685245, 489.4947789864324, 266.9241711475146, 181.37220339576558, 180.05217126613087, 166.57428824334127, 156.2440011890008, 141.29730647845355, 133.37925992817108, 114.20137985195788, 106.33179375652226, 103.104140094653, 103.00260309242383, 99.69687614591818, 99.33474283483072, 88.31536344276482, 83.97488229202865, 83.83492611373373, 79.60558037166126, 75.46021003992094, 69.71994992845018, 68.2543448068173, 67.5372833770502, 67.26544066562157, 62.11273163125915, 59.98979748760404, 808.6729813673774, 1385.783683576136, 163.5329475709675, 158.9819743039678, 99.91857633926055, 310.84487783798556, 82.32166537257616, 209.36650509407306, 362.28937248897284, 301.6006670794235, 188.5115100252439, 241.41296952871775, 308.3772612570534, 617.1560373969363, 123.40824454821713, 343.1743206685426, 202.03243683341066, 119.15259048540267, 165.58070413379082, 419.12086309946204, 389.4151501902165, 383.1985071659426, 316.55797687526376, 345.26652267575463, 230.3762056784143, 229.01404243873517, 220.48637715868276, 198.60351044065357, 190.44243321204118, 209.08234955115256, 166.36923264218154, 126.24362631479917, 103.49471764188569, 92.45292634046083, 90.2495967636737, 86.44412564892305, 79.3982110581226, 78.18045881362622, 78.12240578697366, 68.27506071614175, 67.88975644032222, 67.23468858703878, 62.5214433954765, 61.389134137157875, 60.41716995693968, 54.10995111865743, 49.198891205831096, 48.61473076541954, 47.396442921497346, 4653.2335373205915, 119.10118480525917, 72.62673910088093, 174.07951368740788, 340.80417605965846, 104.51733316224704, 105.27307139093911, 106.15515901195482, 161.49618541082555, 126.9615080785201, 158.4952218280389, 103.73048553357278, 104.99464151721045, 88.11119373950362, 87.07755379762777, 270.46191113631824, 185.78014191579214, 151.08602053549336, 141.54968585769032, 110.86762518478878, 109.05389154147208, 105.12686198980352, 104.46566520558005, 100.22952757692057, 89.5473625848342, 89.35017058626985, 87.22244336835621, 81.17007060411882, 78.47264932868755, 70.3808652406356, 69.04833842565105, 68.09319427193765, 65.22941152291492, 64.03615076143211, 63.8690256228842, 60.175574746839935, 58.83575395246358, 56.97180933825977, 55.0542417373057, 54.99476888117745, 54.28574513141171, 51.373190626227505, 50.74819939340124, 47.54217236168079, 54.332588144029316, 1053.371400727371, 101.57662276953602, 83.53818094823035, 333.58667182981145, 95.37394997223372, 255.30183023224257, 97.67951321923842, 96.32488907339841, 136.38959195632765, 73.8527896405607, 80.36274457236186, 92.54521748659712, 68.48741672455633, 1560.5795063259231, 1293.7039352707825, 189.6639721731277, 123.43589552384046, 103.68706874546308, 86.66474709350346, 79.52550762063879, 71.64361717522785, 69.53882231540466, 61.096434593269116, 60.80458885269767, 60.015915510352634, 57.24079406441591, 56.468046939823964, 52.38763028487506, 49.915349829070145, 49.2448648606806, 44.9143097978396, 44.743084479061736, 44.7281155941769, 44.600406685630894, 43.20085642436952, 42.91892541427551, 42.73064056456965, 41.660120682677814, 40.52120781440411, 37.88446672280949, 36.77461524237826, 34.58038719070848, 34.0728564666836, 435.1334113530651, 36.926577756788696, 58.22970154094037, 47.789378103002406, 26.387464957664207, 25.946097692788257, 21.470299491483065, 21.061632388943337, 19.133547453587287, 16.520214752175065, 14.007505708930369, 13.965324333932566, 13.563861560218365, 13.385813660425448, 12.09801546644653, 10.39905417530119, 9.959195207960798, 9.504291482263193, 9.20082388649549, 6.734996909047762, 6.06911624386413, 5.663750665350011, 5.621498801221885, 5.558605511642329, 4.568962750658076, 4.160848096061411, 4.021753508804216, 2.424513765262831, 2.171504072439318, 1.6697354785940102, 1.570544427073607, 1.3815671026976493, 56.45021653699064, 35.00037784240979, 27.33108168899317, 22.906103568002965, 17.130708329181104, 17.01902124908046, 16.31867726448337, 15.710759254767543, 14.705728849459602, 14.367116353298304, 12.010408142661005, 11.74353401451183, 11.738105475815502, 10.067029618275313, 9.943625560254828, 9.62325262081841, 9.02192051591544, 8.502190637978874, 8.49714205532944, 8.105913979042542, 7.551078162141485, 6.317564604304313, 6.196119069722925, 5.899080514311265, 5.760776513241245, 2.624960512693416, 1.036845995731455, 0.7242624677202528, 0.6024987928578224, 0.5443613514980615], \"Total\": [4755.0, 1561.0, 1294.0, 7694.0, 2404.0, 1175.0, 1434.0, 1202.0, 1819.0, 1612.0, 2486.0, 2671.0, 2287.0, 2424.0, 820.0, 1204.0, 2080.0, 1078.0, 1128.0, 1078.0, 599.0, 896.0, 886.0, 613.0, 1350.0, 1572.0, 815.0, 827.0, 491.0, 775.0, 1078.934755249129, 752.2100058102046, 524.345090854373, 418.93565397547826, 302.2374799052216, 270.05206946913455, 213.96051400192053, 209.69007887676398, 206.00303187233405, 190.6926603139662, 182.41768720768667, 179.4678941209043, 178.76662114403305, 178.05684864867666, 162.25953558557399, 153.46407427765692, 150.44166173868902, 143.39107261842997, 134.48219808624748, 132.88552839640514, 128.4136770118, 128.31551855942772, 126.98765184597197, 126.49685734686393, 125.68614104461825, 120.43440524670862, 118.22006392977526, 102.46458891051633, 98.98574990400205, 528.8251831131897, 434.9816453943358, 533.6333474482949, 716.823947120235, 211.78189392607837, 351.6568752522546, 430.6119260769058, 496.15780733489026, 2424.7648424059103, 1112.8722191429852, 1350.9955606374758, 757.7650242962301, 509.2895090747475, 810.2197123720899, 882.8494419068462, 1572.493998006004, 2671.6791449839725, 398.6967992307723, 314.4536452686816, 571.3647361921744, 527.4948909624911, 828.0533696325945, 586.2340366055375, 649.6258073753452, 796.1720802736587, 985.9911092652569, 2589.558118891075, 7694.056495106932, 2331.764619803073, 2404.6046333233817, 827.7673352015308, 775.4797535226952, 682.4692916251673, 629.1716614651783, 614.2292333236414, 468.0768332020253, 426.66980037293735, 325.86548136260365, 325.7155181750039, 265.8083821698526, 258.6702911854322, 246.70267774935462, 202.79502572369682, 180.72648814245403, 172.2784662720054, 171.12474002435843, 166.65663732067253, 156.59034739877427, 150.49039769770414, 184.3375353850761, 137.8216157530335, 132.93944334946448, 129.5257684393814, 129.00172968906887, 122.15148970112857, 121.8793964582337, 114.82731807319718, 782.6875904138761, 106.80385386713057, 383.0895425395031, 708.8074129273683, 303.51444505037136, 390.2210924874495, 892.8109713523294, 280.2510197526548, 410.3538341676678, 374.38873990297435, 343.7932997607491, 801.7162450162192, 2486.2584245242174, 687.5260104132562, 370.10347479920677, 1331.5908175237705, 272.395542128455, 2287.814124700701, 986.27380310048, 2080.357175594774, 7694.056495106932, 2331.764619803073, 434.05234793490723, 2671.6791449839725, 1202.1681859747723, 1441.564209617006, 1532.1907796820792, 1159.5185291855678, 2589.558118891075, 1204.41468240582, 1078.163198214261, 896.9081449151251, 815.5057210159152, 649.421153115594, 368.6044600544844, 359.6987365675462, 304.1808070317985, 296.5033729371682, 292.9975820445862, 262.029169373711, 240.36103438433167, 227.91062990906275, 215.01723813403598, 213.0858076979387, 196.53105598814813, 194.02795298072044, 187.38606802353215, 165.84732638446832, 166.0994408437111, 164.01219586348859, 163.9133223258382, 163.28641543391893, 158.7157464724217, 148.95540529969404, 148.38288853507964, 146.84931715114033, 195.72194136822256, 132.37521263845446, 131.95789636660237, 1128.6697562578038, 336.3751932117772, 182.54474599325647, 377.1352785373211, 619.3430186795656, 833.5800646068345, 244.83643008346502, 1002.7363912056752, 324.4945979812754, 419.8489583969557, 2589.558118891075, 2080.357175594774, 413.1384273343163, 2287.814124700701, 299.81513371322984, 1263.5804384925605, 2486.2584245242174, 485.74813376654726, 1183.505057998076, 617.0423909107836, 392.58334284084424, 2331.764619803073, 480.22037869920234, 1612.270984852867, 886.213215364236, 734.9876503862964, 725.777702259402, 666.754609830804, 522.763645581243, 351.0906426334834, 332.4603026459767, 323.9553787303043, 218.43026915347227, 214.90791335174515, 616.8389443834442, 227.83219916161545, 196.0561703814091, 193.34883983157593, 176.7009971297493, 173.34123933915762, 172.00203064248478, 170.56181357414798, 168.985368136629, 166.77671496920937, 164.16964355851684, 151.74134276231337, 145.66932775843873, 185.81151459393897, 133.69162006037425, 131.0050324078731, 130.19299931166896, 127.97320917753837, 127.44622633163515, 285.6470155263341, 162.3823212777821, 1819.5028151571294, 370.6951784644719, 852.2258445935479, 7694.056495106932, 383.41418000327366, 625.1549468179722, 609.0528917479368, 1532.1907796820792, 684.9970795726352, 276.25064837082084, 1159.5185291855678, 1263.5804384925605, 2331.764619803073, 1183.505057998076, 796.1720802736587, 269.8299209088243, 589.5952096900833, 2424.7648424059103, 675.0752954230712, 1441.564209617006, 1350.9955606374758, 599.6653663305777, 409.1050149700907, 407.8803950760788, 309.4764165915065, 491.0617074494608, 267.7951899856323, 182.24320363198387, 180.9231963971684, 167.44524606208225, 157.11511395270045, 142.16844346369987, 134.25021507418185, 115.07246106830247, 107.20283860013747, 103.97527761156748, 103.8736148583829, 100.56782498227895, 100.20585612274277, 89.18643526073625, 84.845897310385, 84.70590210016584, 80.47672688961795, 76.33125719612654, 70.59097622844077, 69.12539273450575, 68.40830698441262, 68.13655181278715, 62.983689334955734, 60.86085088065028, 820.471040142864, 1434.2651512586638, 168.0438821055525, 167.54004820576114, 104.13970090073836, 355.984671434993, 84.82447750402272, 241.11748951498092, 459.0197469544803, 399.92609077576094, 240.91636298164244, 384.84136445625785, 633.9471993379988, 2671.6791449839725, 161.61308763714794, 1572.493998006004, 1441.564209617006, 185.04416728815687, 1002.7363912056752, 420.0050707924437, 390.29933301091273, 384.0827265100707, 317.44212712570186, 346.42861926552354, 231.2603859377423, 229.89824938044254, 221.37055392910932, 199.48770680954914, 191.32662394875337, 210.11862990944232, 167.25339672762732, 127.26563179715413, 104.37889483346675, 93.33725509763038, 91.13377014286235, 87.32849827473575, 80.2825629620686, 79.06468277274604, 79.00666534283323, 69.15923997535523, 68.77405311796525, 68.11894679328721, 63.4058047126655, 62.27375444920689, 61.305895559602355, 54.99447473864788, 50.08333821649511, 49.49885046134332, 48.28066238707078, 4755.152031472637, 129.88756276994638, 76.41463622947872, 207.95627516661955, 469.8014287209616, 133.92656974835296, 150.7818376341905, 236.74024156530723, 1159.5185291855678, 557.0604892919823, 1263.5804384925605, 323.51476747961976, 497.1952495472966, 434.05234793490723, 398.6967992307723, 271.3315099881743, 186.64965361259817, 151.9555526109129, 142.4192784907169, 111.7371321644347, 109.92335744987948, 105.9964282271052, 105.33525366418908, 101.09912803005412, 90.41689930563982, 90.21957691067131, 88.09198386532712, 82.03968700898393, 79.34210815167783, 71.25042802112321, 69.91803088053491, 68.96273364726812, 66.09893625052072, 64.90575700064808, 64.7385305867889, 61.04505333776012, 59.70540590146844, 57.841598826871106, 55.92385103300439, 55.86432502035009, 55.15535324270057, 52.2427312605921, 51.61769432289738, 48.41161782792736, 55.32897443317248, 1175.6257262103177, 112.5330352945255, 95.25716917826482, 613.4016668501807, 125.63568192593081, 646.673639764275, 161.96912694644038, 173.36993044066702, 571.3647361921744, 124.0792171251919, 277.01337318053993, 882.8494419068462, 110.28784436951044, 1561.4620343043732, 1294.586469660547, 190.5466794482473, 124.31850666487016, 104.56977903556263, 87.54744828217439, 80.40827745280964, 72.52635115043043, 70.42150378211817, 61.979066772771304, 61.687511130940266, 60.89863620771615, 58.12342702131687, 57.350850360468755, 53.270186080282286, 50.79805904609334, 50.127560061982216, 45.79689343432247, 45.625817654468264, 45.610737740195454, 45.48327786459297, 44.083518594167025, 43.80156944094849, 43.61337567790401, 42.54276717865673, 41.40389172776723, 38.76722209187231, 37.65713633416424, 35.46322658719804, 34.95549347319346, 1202.1681859747723, 1128.6697562578038, 59.154257427058695, 48.71396511936323, 27.312074027012073, 26.870563487211445, 22.394847792652243, 21.986193180328335, 20.058234055291592, 17.444753747069996, 14.932273048526442, 14.889832348378249, 14.488528037176934, 14.31032996273778, 13.022509321696388, 11.323796104454413, 10.883536491281289, 10.428780787278722, 10.12525169907548, 7.659454257321225, 6.993747618238777, 6.588278298566833, 6.546063352481758, 6.483114985503504, 5.493510449286056, 5.08528456232663, 4.946301385761611, 3.348869659064324, 3.096093151699197, 2.5941323018232563, 2.4948782511412273, 2.3059112549770644, 57.37406551117403, 35.924259646199566, 28.255059863656772, 23.83006841413586, 18.0546456604835, 17.94287661886272, 17.242726415276106, 16.634619028618665, 15.629854369319572, 15.290960691815204, 12.934451898389042, 12.667405274230267, 12.662039894184291, 10.990914566204324, 10.867401761509488, 10.547172328604205, 9.948344326345667, 9.426064717772112, 9.421125556529912, 9.029727868810479, 8.474958994458575, 7.241641300716795, 7.119887465415839, 6.822848612725233, 6.68460002190896, 3.5489854448707985, 1.9606022858211005, 1.6479849267389621, 1.5262521563414149, 1.4680920061436131], \"Category\": [\"Default\", \"Default\", \"Default\", \"Default\", \"Default\", \"Default\", \"Default\", \"Default\", \"Default\", \"Default\", \"Default\", \"Default\", \"Default\", \"Default\", \"Default\", \"Default\", \"Default\", \"Default\", \"Default\", \"Default\", \"Default\", \"Default\", \"Default\", \"Default\", \"Default\", \"Default\", \"Default\", \"Default\", \"Default\", \"Default\", \"Topic1\", \"Topic1\", \"Topic1\", \"Topic1\", \"Topic1\", \"Topic1\", \"Topic1\", \"Topic1\", \"Topic1\", \"Topic1\", \"Topic1\", \"Topic1\", \"Topic1\", \"Topic1\", \"Topic1\", \"Topic1\", \"Topic1\", \"Topic1\", \"Topic1\", \"Topic1\", \"Topic1\", \"Topic1\", \"Topic1\", \"Topic1\", \"Topic1\", \"Topic1\", \"Topic1\", \"Topic1\", \"Topic1\", \"Topic1\", \"Topic1\", \"Topic1\", \"Topic1\", \"Topic1\", \"Topic1\", \"Topic1\", \"Topic1\", \"Topic1\", \"Topic1\", \"Topic1\", \"Topic1\", \"Topic1\", \"Topic1\", \"Topic1\", \"Topic1\", \"Topic1\", \"Topic1\", \"Topic1\", \"Topic1\", \"Topic1\", \"Topic1\", \"Topic1\", \"Topic1\", \"Topic1\", \"Topic1\", \"Topic1\", \"Topic1\", \"Topic1\", \"Topic2\", \"Topic2\", \"Topic2\", \"Topic2\", \"Topic2\", \"Topic2\", \"Topic2\", \"Topic2\", \"Topic2\", \"Topic2\", \"Topic2\", \"Topic2\", \"Topic2\", \"Topic2\", \"Topic2\", \"Topic2\", \"Topic2\", \"Topic2\", \"Topic2\", \"Topic2\", \"Topic2\", \"Topic2\", \"Topic2\", \"Topic2\", \"Topic2\", \"Topic2\", \"Topic2\", \"Topic2\", \"Topic2\", \"Topic2\", \"Topic2\", \"Topic2\", \"Topic2\", \"Topic2\", \"Topic2\", \"Topic2\", \"Topic2\", \"Topic2\", \"Topic2\", \"Topic2\", \"Topic2\", \"Topic2\", \"Topic2\", \"Topic2\", \"Topic2\", \"Topic2\", \"Topic2\", \"Topic2\", \"Topic2\", \"Topic2\", \"Topic2\", \"Topic2\", \"Topic2\", \"Topic2\", \"Topic2\", \"Topic2\", \"Topic2\", \"Topic3\", \"Topic3\", \"Topic3\", \"Topic3\", \"Topic3\", \"Topic3\", \"Topic3\", \"Topic3\", \"Topic3\", \"Topic3\", \"Topic3\", \"Topic3\", \"Topic3\", \"Topic3\", \"Topic3\", \"Topic3\", \"Topic3\", \"Topic3\", \"Topic3\", \"Topic3\", \"Topic3\", \"Topic3\", \"Topic3\", \"Topic3\", \"Topic3\", \"Topic3\", \"Topic3\", \"Topic3\", \"Topic3\", \"Topic3\", \"Topic3\", \"Topic3\", \"Topic3\", \"Topic3\", \"Topic3\", \"Topic3\", \"Topic3\", \"Topic3\", \"Topic3\", \"Topic3\", \"Topic3\", \"Topic3\", \"Topic3\", \"Topic3\", \"Topic3\", \"Topic3\", \"Topic3\", \"Topic3\", \"Topic3\", \"Topic3\", \"Topic3\", \"Topic3\", \"Topic3\", \"Topic4\", \"Topic4\", \"Topic4\", \"Topic4\", \"Topic4\", \"Topic4\", \"Topic4\", \"Topic4\", \"Topic4\", \"Topic4\", \"Topic4\", \"Topic4\", \"Topic4\", \"Topic4\", \"Topic4\", \"Topic4\", \"Topic4\", \"Topic4\", \"Topic4\", \"Topic4\", \"Topic4\", \"Topic4\", \"Topic4\", \"Topic4\", \"Topic4\", \"Topic4\", \"Topic4\", \"Topic4\", \"Topic4\", \"Topic4\", \"Topic4\", \"Topic4\", \"Topic4\", \"Topic4\", \"Topic4\", \"Topic4\", \"Topic4\", \"Topic4\", \"Topic4\", \"Topic4\", \"Topic4\", \"Topic4\", \"Topic4\", \"Topic4\", \"Topic4\", \"Topic4\", \"Topic4\", \"Topic4\", \"Topic4\", \"Topic4\", \"Topic4\", \"Topic4\", \"Topic4\", \"Topic5\", \"Topic5\", \"Topic5\", \"Topic5\", \"Topic5\", \"Topic5\", \"Topic5\", \"Topic5\", \"Topic5\", \"Topic5\", \"Topic5\", \"Topic5\", \"Topic5\", \"Topic5\", \"Topic5\", \"Topic5\", \"Topic5\", \"Topic5\", \"Topic5\", \"Topic5\", \"Topic5\", \"Topic5\", \"Topic5\", \"Topic5\", \"Topic5\", \"Topic5\", \"Topic5\", \"Topic5\", \"Topic5\", \"Topic5\", \"Topic5\", \"Topic5\", \"Topic5\", \"Topic5\", \"Topic5\", \"Topic5\", \"Topic5\", \"Topic5\", \"Topic5\", \"Topic5\", \"Topic5\", \"Topic5\", \"Topic5\", \"Topic5\", \"Topic5\", \"Topic5\", \"Topic5\", \"Topic5\", \"Topic6\", \"Topic6\", \"Topic6\", \"Topic6\", \"Topic6\", \"Topic6\", \"Topic6\", \"Topic6\", \"Topic6\", \"Topic6\", \"Topic6\", \"Topic6\", \"Topic6\", \"Topic6\", \"Topic6\", \"Topic6\", \"Topic6\", \"Topic6\", \"Topic6\", \"Topic6\", \"Topic6\", \"Topic6\", \"Topic6\", \"Topic6\", \"Topic6\", \"Topic6\", \"Topic6\", \"Topic6\", \"Topic6\", \"Topic6\", \"Topic6\", \"Topic6\", \"Topic6\", \"Topic6\", \"Topic6\", \"Topic6\", \"Topic6\", \"Topic6\", \"Topic6\", \"Topic6\", \"Topic6\", \"Topic6\", \"Topic6\", \"Topic6\", \"Topic6\", \"Topic7\", \"Topic7\", \"Topic7\", \"Topic7\", \"Topic7\", \"Topic7\", \"Topic7\", \"Topic7\", \"Topic7\", \"Topic7\", \"Topic7\", \"Topic7\", \"Topic7\", \"Topic7\", \"Topic7\", \"Topic7\", \"Topic7\", \"Topic7\", \"Topic7\", \"Topic7\", \"Topic7\", \"Topic7\", \"Topic7\", \"Topic7\", \"Topic7\", \"Topic7\", \"Topic7\", \"Topic7\", \"Topic7\", \"Topic7\", \"Topic7\", \"Topic7\", \"Topic7\", \"Topic7\", \"Topic7\", \"Topic7\", \"Topic7\", \"Topic7\", \"Topic7\", \"Topic7\", \"Topic7\", \"Topic7\", \"Topic7\", \"Topic8\", \"Topic8\", \"Topic8\", \"Topic8\", \"Topic8\", \"Topic8\", \"Topic8\", \"Topic8\", \"Topic8\", \"Topic8\", \"Topic8\", \"Topic8\", \"Topic8\", \"Topic8\", \"Topic8\", \"Topic8\", \"Topic8\", \"Topic8\", \"Topic8\", \"Topic8\", \"Topic8\", \"Topic8\", \"Topic8\", \"Topic8\", \"Topic8\", \"Topic8\", \"Topic8\", \"Topic8\", \"Topic8\", \"Topic8\", \"Topic8\", \"Topic8\", \"Topic9\", \"Topic9\", \"Topic9\", \"Topic9\", \"Topic9\", \"Topic9\", \"Topic9\", \"Topic9\", \"Topic9\", \"Topic9\", \"Topic9\", \"Topic9\", \"Topic9\", \"Topic9\", \"Topic9\", \"Topic9\", \"Topic9\", \"Topic9\", \"Topic9\", \"Topic9\", \"Topic9\", \"Topic9\", \"Topic9\", \"Topic9\", \"Topic9\", \"Topic9\", \"Topic9\", \"Topic9\", \"Topic9\", \"Topic9\", \"Topic10\", \"Topic10\", \"Topic10\", \"Topic10\", \"Topic10\", \"Topic10\", \"Topic10\", \"Topic10\", \"Topic10\", \"Topic10\", \"Topic10\", \"Topic10\", \"Topic10\", \"Topic10\", \"Topic10\", \"Topic10\", \"Topic10\", \"Topic10\", \"Topic10\", \"Topic10\", \"Topic10\", \"Topic10\", \"Topic10\", \"Topic10\", \"Topic10\", \"Topic10\", \"Topic10\", \"Topic10\", \"Topic10\", \"Topic10\"], \"logprob\": [30.0, 29.0, 28.0, 27.0, 26.0, 25.0, 24.0, 23.0, 22.0, 21.0, 20.0, 19.0, 18.0, 17.0, 16.0, 15.0, 14.0, 13.0, 12.0, 11.0, 10.0, 9.0, 8.0, 7.0, 6.0, 5.0, 4.0, 3.0, 2.0, 1.0, -3.8428, -4.2041, -4.5652, -4.7901, -5.1173, -5.2303, -5.4639, -5.4842, -5.502, -5.5796, -5.6241, -5.6405, -5.6444, -5.6484, -5.7418, -5.7978, -5.8179, -5.8661, -5.9307, -5.9427, -5.9772, -5.9779, -5.9884, -5.9923, -5.9988, -6.0418, -6.0604, -6.2046, -6.2394, -4.5639, -4.7602, -4.5619, -4.2718, -5.479, -4.9779, -4.7929, -4.6911, -3.2597, -3.9765, -3.8526, -4.3768, -4.7399, -4.357, -4.4476, -4.0068, -3.6992, -5.0865, -5.2525, -4.8445, -4.9166, -4.685, -4.8874, -4.8835, -4.7806, -4.6797, -4.2572, -3.8674, -5.0001, -2.9712, -4.0383, -4.1036, -4.2316, -4.313, -4.3371, -4.6093, -4.7021, -4.9722, -4.9727, -5.1766, -5.2039, -5.2514, -5.4482, -5.5639, -5.612, -5.6188, -5.6454, -5.708, -5.748, -5.5454, -5.8365, -5.8728, -5.899, -5.9031, -5.958, -5.9602, -6.0203, -4.1013, -6.0933, -4.8237, -4.2241, -5.0603, -4.8374, -4.0563, -5.1588, -4.7991, -4.8958, -4.9837, -4.2217, -3.2691, -4.3994, -4.951, -3.8513, -5.2165, -3.4469, -4.2853, -3.7782, -2.8986, -3.9645, -4.912, -4.0849, -4.4552, -4.4711, -4.6303, -4.7192, -4.6063, -3.6111, -3.7219, -3.9061, -4.0014, -4.2294, -4.7968, -4.8213, -4.9894, -5.015, -5.027, -5.139, -5.2256, -5.279, -5.3375, -5.3466, -5.4278, -5.4407, -5.4756, -5.5984, -5.5969, -5.6095, -5.6102, -5.614, -5.6426, -5.7064, -5.7103, -5.7207, -5.4337, -5.8251, -5.8283, -3.7093, -4.9121, -5.5106, -4.8269, -4.3989, -4.1891, -5.2636, -4.0853, -5.072, -4.8883, -3.517, -3.8117, -5.0029, -4.0279, -5.2029, -4.4454, -4.1516, -4.9816, -4.6885, -4.9422, -5.112, -4.7392, -5.1301, -3.3015, -3.9004, -4.0877, -4.1003, -4.1852, -4.4289, -4.8278, -4.8824, -4.9084, -5.3038, -5.3202, -4.2658, -5.262, -5.4123, -5.4263, -5.5168, -5.5361, -5.5439, -5.5523, -5.5616, -5.5749, -5.5907, -5.6699, -5.7109, -5.468, -5.7973, -5.8177, -5.824, -5.8413, -5.8454, -5.0397, -5.6045, -3.2195, -4.793, -4.1588, -2.4453, -4.9204, -4.5625, -4.5942, -3.9294, -4.585, -5.2279, -4.3847, -4.3336, -4.1174, -4.5055, -4.7637, -5.3034, -5.0497, -4.7379, -5.1038, -5.0251, -5.0419, -3.4192, -3.8022, -3.8053, -4.082, -3.6207, -4.2271, -4.6135, -4.6208, -4.6986, -4.7627, -4.8632, -4.9209, -5.0761, -5.1475, -5.1784, -5.1793, -5.212, -5.2156, -5.3332, -5.3836, -5.3852, -5.437, -5.4905, -5.5696, -5.5908, -5.6014, -5.6054, -5.6851, -5.7199, -3.1187, -2.5801, -4.7171, -4.7453, -5.2097, -4.0748, -5.4035, -4.47, -3.9216, -4.105, -4.5749, -4.3276, -4.0828, -3.389, -4.9986, -3.9759, -4.5057, -5.0337, -4.7046, -3.6406, -3.7141, -3.7302, -3.9213, -3.8345, -4.2391, -4.245, -4.2829, -4.3875, -4.4294, -4.336, -4.5646, -4.8406, -5.0393, -5.1521, -5.1762, -5.2193, -5.3043, -5.3198, -5.3205, -5.4552, -5.4609, -5.4706, -5.5433, -5.5615, -5.5775, -5.6878, -5.7829, -5.7948, -5.8202, -1.2335, -4.8988, -5.3934, -4.5193, -3.8475, -5.0294, -5.0222, -5.0139, -4.5943, -4.8349, -4.613, -5.037, -5.0249, -5.2002, -5.212, -3.6602, -4.0358, -4.2425, -4.3077, -4.552, -4.5685, -4.6052, -4.6115, -4.6529, -4.7656, -4.7678, -4.7919, -4.8638, -4.8976, -5.0064, -5.0255, -5.0394, -5.0824, -5.1009, -5.1035, -5.1631, -5.1856, -5.2178, -5.252, -5.2531, -5.2661, -5.3212, -5.3334, -5.3987, -5.2652, -2.3006, -4.6395, -4.835, -3.4504, -4.7025, -3.7179, -4.6786, -4.6926, -4.3448, -4.9583, -4.8738, -4.7326, -5.0337, -1.5776, -1.7651, -3.6851, -4.1147, -4.289, -4.4684, -4.5543, -4.6587, -4.6885, -4.8179, -4.8227, -4.8358, -4.8831, -4.8967, -4.9717, -5.0201, -5.0336, -5.1256, -5.1295, -5.1298, -5.1327, -5.1645, -5.1711, -5.1755, -5.2009, -5.2286, -5.2959, -5.3256, -5.3871, -5.4019, -2.8547, -5.3215, -2.7511, -2.9487, -3.5426, -3.5595, -3.7489, -3.7681, -3.8641, -4.0109, -4.1759, -4.1789, -4.2081, -4.2213, -4.3225, -4.4738, -4.517, -4.5638, -4.5962, -4.9082, -5.0123, -5.0814, -5.0889, -5.1002, -5.2962, -5.3898, -5.4238, -5.9299, -6.0401, -6.3029, -6.3641, -6.4923, -2.7631, -3.2411, -3.4884, -3.6651, -3.9556, -3.9621, -4.0042, -4.0421, -4.1082, -4.1315, -4.3107, -4.3332, -4.3336, -4.4872, -4.4995, -4.5323, -4.5968, -4.6561, -4.6567, -4.7039, -4.7748, -4.9531, -4.9725, -5.0217, -5.0454, -5.8314, -6.7603, -7.1191, -7.3031, -7.4046], \"loglift\": [30.0, 29.0, 28.0, 27.0, 26.0, 25.0, 24.0, 23.0, 22.0, 21.0, 20.0, 19.0, 18.0, 17.0, 16.0, 15.0, 14.0, 13.0, 12.0, 11.0, 10.0, 9.0, 8.0, 7.0, 6.0, 5.0, 4.0, 3.0, 2.0, 1.0, 1.5604, 1.5598, 1.5596, 1.5591, 1.5584, 1.558, 1.5572, 1.5571, 1.557, 1.5567, 1.5565, 1.5564, 1.5564, 1.5564, 1.5559, 1.5556, 1.5555, 1.5552, 1.5548, 1.5547, 1.5545, 1.5545, 1.5544, 1.5544, 1.5544, 1.5541, 1.5539, 1.5528, 1.5525, 1.5524, 1.5514, 1.5453, 1.5403, 1.5523, 1.5464, 1.5288, 1.4889, 1.3337, 1.3957, 1.3257, 1.3797, 1.414, 1.3326, 1.1562, 1.0197, 0.7972, 1.3122, 1.3836, 1.1944, 1.2021, 0.9828, 1.1258, 1.027, 0.9265, 0.8136, 0.2704, -0.4287, -0.3676, 1.6305, 1.6299, 1.6298, 1.6296, 1.6295, 1.6295, 1.629, 1.6288, 1.6282, 1.6282, 1.6276, 1.6275, 1.6273, 1.6265, 1.626, 1.6258, 1.6257, 1.6256, 1.6252, 1.625, 1.6247, 1.6245, 1.6242, 1.6241, 1.624, 1.6236, 1.6236, 1.6232, 1.6229, 1.6226, 1.6149, 1.5992, 1.6111, 1.5827, 1.5362, 1.5925, 1.5708, 1.5658, 1.5632, 1.4784, 1.2992, 1.4544, 1.5221, 1.3414, 1.5632, 1.2046, 1.2077, 0.9684, 0.5401, 0.668, 1.4017, 0.4116, 0.8399, 0.6423, 0.4222, 0.6119, -0.0786, 1.6821, 1.682, 1.6818, 1.6817, 1.6814, 1.6804, 1.6803, 1.6799, 1.6798, 1.6798, 1.6794, 1.6791, 1.6789, 1.6787, 1.6787, 1.6783, 1.6783, 1.6781, 1.6775, 1.6774, 1.6774, 1.6774, 1.6774, 1.6772, 1.6769, 1.6769, 1.6768, 1.6765, 1.6761, 1.6761, 1.6488, 1.6566, 1.6693, 1.6274, 1.5594, 1.4721, 1.6227, 1.3911, 1.5326, 1.4587, 1.0106, 0.9349, 1.3602, 0.6236, 1.4808, 0.7999, 0.4168, 1.2196, 0.6222, 1.0198, 1.3021, -0.1067, 1.0825, 1.7, 1.6996, 1.6994, 1.6994, 1.6993, 1.6989, 1.6981, 1.698, 1.6979, 1.6966, 1.6965, 1.6965, 1.6963, 1.6962, 1.6961, 1.6957, 1.6956, 1.6955, 1.6955, 1.6955, 1.6954, 1.6953, 1.6949, 1.6946, 1.6941, 1.6941, 1.694, 1.6939, 1.6938, 1.6938, 1.6925, 1.6925, 1.6611, 1.6786, 1.4803, 0.9934, 1.5174, 1.3864, 1.3808, 1.1231, 1.2725, 1.5377, 0.9464, 0.9116, 0.5151, 0.8052, 0.9434, 1.4857, 0.9577, -0.1445, 0.7683, 0.0883, 0.1364, 2.5714, 2.5707, 2.5707, 2.57, 2.5696, 2.5696, 2.568, 2.568, 2.5676, 2.5673, 2.5667, 2.5663, 2.5652, 2.5647, 2.5644, 2.5644, 2.5641, 2.5641, 2.563, 2.5625, 2.5625, 2.5619, 2.5613, 2.5604, 2.5601, 2.56, 2.56, 2.5589, 2.5584, 2.5583, 2.5384, 2.5456, 2.5204, 2.5314, 2.4372, 2.5429, 2.4316, 2.3362, 2.2906, 2.3275, 2.1065, 1.8522, 1.1075, 2.3031, 1.0506, 0.6078, 2.1326, 0.7718, 2.706, 2.7059, 2.7058, 2.7053, 2.7048, 2.7043, 2.7043, 2.7041, 2.7037, 2.7035, 2.7032, 2.7028, 2.7001, 2.6996, 2.6986, 2.6984, 2.698, 2.6971, 2.6969, 2.6969, 2.6953, 2.6952, 2.6951, 2.6941, 2.6938, 2.6935, 2.6919, 2.6903, 2.6901, 2.6897, 2.6865, 2.6214, 2.6573, 2.5303, 2.3871, 2.4602, 2.3489, 1.9061, 0.7369, 1.2293, 0.6322, 1.5707, 1.1531, 1.1136, 1.1867, 3.1234, 3.1219, 3.1208, 3.1205, 3.1188, 3.1186, 3.1183, 3.1183, 3.1179, 3.1169, 3.1169, 3.1167, 3.1159, 3.1156, 3.1143, 3.1141, 3.1139, 3.1133, 3.1131, 3.1131, 3.1122, 3.1119, 3.1114, 3.1109, 3.1109, 3.1107, 3.1098, 3.1096, 3.1085, 3.1084, 3.0168, 3.0242, 2.9953, 2.5175, 2.851, 2.1972, 2.6209, 2.5389, 1.6941, 2.6077, 1.8891, 0.8711, 2.6501, 3.4559, 3.4558, 3.4519, 3.4494, 3.448, 3.4464, 3.4455, 3.4443, 3.4439, 3.4422, 3.4421, 3.4419, 3.4412, 3.441, 3.4398, 3.439, 3.4387, 3.437, 3.437, 3.437, 3.4369, 3.4363, 3.4362, 3.4361, 3.4355, 3.435, 3.4335, 3.4328, 3.4313, 3.4309, 2.4403, 0.0366, 5.5556, 5.5522, 5.5369, 5.5364, 5.5292, 5.5284, 5.5242, 5.5169, 5.5075, 5.5073, 5.5054, 5.5046, 5.4977, 5.4862, 5.4826, 5.4786, 5.4756, 5.4428, 5.4296, 5.4202, 5.4191, 5.4175, 5.3871, 5.3708, 5.3645, 5.2484, 5.2167, 5.1308, 5.1086, 5.0591, 5.5742, 5.5644, 5.5572, 5.5509, 5.5379, 5.5376, 5.5354, 5.5333, 5.5295, 5.5281, 5.5163, 5.5147, 5.5147, 5.5026, 5.5016, 5.4988, 5.4927, 5.4873, 5.4872, 5.4825, 5.475, 5.4539, 5.4515, 5.445, 5.4417, 5.2888, 4.9534, 4.7683, 4.661, 4.5983]}, \"token.table\": {\"Topic\": [1, 3, 7, 10, 2, 3, 6, 1, 5, 7, 6, 4, 7, 2, 3, 4, 7, 1, 2, 3, 4, 5, 6, 1, 8, 8, 8, 1, 5, 9, 10, 4, 1, 3, 4, 2, 2, 7, 7, 1, 2, 4, 5, 7, 1, 2, 3, 4, 1, 2, 4, 6, 7, 4, 4, 10, 8, 2, 2, 2, 3, 8, 2, 3, 4, 3, 4, 1, 8, 3, 7, 8, 3, 2, 3, 6, 1, 4, 10, 1, 5, 1, 4, 4, 8, 5, 9, 3, 1, 5, 1, 5, 5, 4, 9, 3, 1, 3, 1, 3, 5, 6, 8, 8, 8, 2, 3, 5, 3, 6, 3, 1, 3, 4, 2, 5, 7, 8, 9, 1, 6, 5, 4, 5, 9, 8, 6, 10, 10, 10, 2, 3, 1, 4, 7, 1, 4, 3, 4, 4, 2, 3, 4, 8, 5, 1, 4, 5, 8, 3, 3, 4, 7, 8, 7, 5, 7, 9, 10, 3, 2, 4, 2, 5, 3, 5, 6, 9, 9, 2, 3, 7, 6, 2, 2, 3, 4, 6, 2, 2, 1, 2, 3, 4, 5, 7, 1, 3, 9, 2, 10, 1, 2, 5, 6, 1, 2, 3, 4, 5, 4, 5, 6, 6, 7, 1, 5, 7, 5, 10, 2, 10, 9, 2, 4, 1, 2, 4, 5, 1, 2, 3, 4, 8, 8, 1, 2, 3, 4, 5, 1, 2, 5, 7, 2, 3, 3, 5, 9, 2, 6, 1, 2, 3, 4, 8, 3, 4, 10, 2, 5, 7, 1, 3, 4, 5, 1, 3, 4, 5, 3, 1, 4, 7, 2, 2, 7, 1, 2, 6, 9, 2, 4, 2, 4, 8, 1, 3, 1, 3, 4, 1, 2, 7, 3, 6, 6, 2, 4, 4, 7, 10, 2, 10, 1, 4, 10, 3, 6, 1, 3, 4, 1, 4, 9, 6, 1, 3, 4, 6, 6, 3, 5, 2, 7, 5, 4, 2, 3, 6, 5, 1, 2, 3, 7, 4, 3, 8, 7, 4, 3, 1, 3, 5, 1, 2, 4, 1, 10, 10, 7, 3, 8, 3, 10, 6, 5, 3, 4, 3, 4, 4, 1, 5, 1, 4, 8, 9, 1, 3, 6, 2, 1, 2, 3, 5, 6, 1, 2, 3, 5, 10, 1, 4, 1, 2, 3, 4, 2, 9, 8, 1, 7, 1, 3, 4, 5, 3, 6, 7, 2, 6, 4, 4, 5, 9, 9, 1, 3, 5, 4, 7, 1, 3, 6, 2, 9, 4, 1, 3, 4, 6, 7, 1, 5, 1, 3, 4, 1, 5, 7, 1, 2, 3, 4, 6, 6, 2, 3, 2, 4, 7, 2, 2, 3, 7, 8, 7, 1, 7, 5, 2, 10, 5, 3, 2, 3, 5, 2, 1, 6, 2, 7, 3, 4, 3, 3, 3, 2, 3, 10, 3, 9, 1, 2, 3, 8, 1, 5, 7, 6, 9, 10, 9, 5, 6, 5, 1, 3, 6, 1, 2, 3, 4, 5, 1, 10, 4, 6, 5, 6, 4, 7, 3, 4, 9, 1, 5, 7, 10, 3, 9, 3, 8, 1, 4, 4, 2, 6, 2, 5, 6, 8, 6, 8, 1, 2, 3, 5, 7, 1, 2, 3, 6, 7, 2, 6, 3, 1, 2, 3, 4, 5, 7, 1, 6, 1, 7, 9, 1, 4, 6, 2, 3, 4, 2, 3, 6, 3, 2, 3, 9, 4, 9, 6, 5, 1, 2, 3, 4, 7, 4, 3, 7, 8, 1, 3, 8, 9, 8, 1, 8, 6, 5, 10, 5, 1, 10, 10, 1, 1, 3, 4, 6, 2, 3, 1, 4, 1, 4, 7, 1, 6, 1, 2, 3, 4, 8, 1, 6, 7, 3, 6, 4, 1, 1, 6, 1, 5, 1, 2, 3, 5, 2, 5, 6, 10, 10, 4, 1, 2, 3, 1, 2, 4, 5, 1, 2, 3, 1, 2, 3, 5, 9, 9, 6, 6, 7, 7, 1, 7, 7, 9, 2, 3, 5, 6, 10, 1, 5, 7], \"Freq\": [0.9896797219590407, 0.9927408939292184, 0.9881852255952741, 0.8859624693267607, 0.8581589861461287, 0.07483944646623215, 0.06610817771183841, 0.10037208047528723, 0.00340244340594194, 0.8956932266142157, 0.9734746309650107, 0.9970508940643346, 0.9873270237017107, 0.1949364371113094, 0.014439736082319214, 0.49817089484001287, 0.28879472164638426, 0.2493990039384, 0.39220004651603224, 0.08045129159303226, 0.06436103327442581, 0.0020112822898258067, 0.21118464043170967, 0.992222457604225, 0.9872418459199562, 0.9816999835581431, 0.986937833023765, 0.02880745742547768, 0.960248580849256, 0.9662817343540081, 0.510047349853619, 0.9986562353996324, 0.8340316321500407, 0.07126219641788323, 0.09501626189051096, 0.9974087044076057, 0.992744096408352, 0.9970560271393017, 0.9950926820543906, 0.5818782145815901, 0.1647065110127124, 0.01971390672352928, 0.2181248389087272, 0.015262379398861377, 0.8473569415958622, 0.020667242477947857, 0.033247303116698726, 0.09794475783027463, 0.41408430026656223, 0.004890759451967271, 0.013042025205246053, 0.02445379725983635, 0.5445045523190227, 0.9989284566652008, 0.9986154658396409, 0.9555810580578136, 0.9902450781578012, 0.9924735499888365, 0.9925790709676573, 0.953305721196925, 0.04612769618694798, 0.9866097815897148, 0.1204216025386649, 0.4036667803408767, 0.4765981734276738, 0.809760248187281, 0.1883442355043009, 0.9983913989433026, 0.9862836944817585, 0.999351494613975, 0.9864821255825791, 0.9995469830140425, 0.9933808275444731, 0.5152961292300757, 0.4734763873989035, 0.010575107129721702, 0.9683893425783225, 0.03018959581179423, 0.6068016665533484, 0.9940645436741278, 0.9970306039265494, 0.006158305855779293, 0.9914872427804662, 0.9953427852961803, 0.9888549380849403, 0.9915896365061142, 0.9165814134269366, 0.9943375414912077, 0.9908464059656443, 0.009195790310586026, 0.02380330631428463, 0.9759355588856699, 0.9931783265043214, 0.9992116803782938, 0.7865833172116353, 0.9942164038102663, 0.9973928811991905, 0.9993798682181098, 0.16503049318931853, 0.01000184807207991, 0.7551395294420332, 0.07001293650455938, 0.999704101480393, 0.9802095159138792, 0.9761557791750902, 0.023818089339036237, 0.8002878017916176, 0.17625386110886818, 0.9466099310162295, 0.0530313686843826, 0.9949043640697184, 0.5864914781315996, 0.3648254076566643, 0.04925912677220784, 0.9993813461660142, 0.9900301919456339, 0.9845281399169284, 0.9754212315912916, 0.9375665683652603, 0.995130984902418, 0.985672868821441, 0.9929025672664683, 0.9967060999037528, 0.9906201009127291, 0.9472419131028926, 0.9764458529912247, 0.9960928394067234, 0.9547993006064556, 0.8491554381689659, 0.9098423920743355, 0.6530250792098111, 0.3466190681481795, 0.9908756555714993, 0.005672952226554385, 0.0018909840755181283, 0.2687333769893641, 0.7310187695484488, 0.9972978520596757, 0.9986310118793056, 0.9956325925456644, 0.015648873497450644, 0.15127244380868957, 0.8319984409477926, 0.9945512074251505, 0.9906874259121966, 0.8363712870152369, 0.06678249820273754, 0.09222344989901851, 0.977506185009045, 0.9980574394722264, 0.018134364774590777, 0.3536201131045202, 0.6165684023360865, 0.9852437383876539, 0.9934029793842398, 0.9916281618414187, 0.9762123604450688, 0.9107083411010729, 0.9481214195087854, 0.999655697981868, 0.00324233743379981, 0.9953975921765416, 0.9934273675203344, 0.9943538106508816, 0.9960044430159923, 0.9663485156727765, 0.033466615261394855, 0.857909139350809, 0.4336680337725948, 0.9818313588025236, 0.016473680516820865, 0.9965193955626268, 0.98678952449471, 0.9927846995982208, 0.8970464278405407, 0.018913629502662004, 0.035125311933515146, 0.048635047292559436, 0.9973440532609203, 0.996229988574769, 0.6671579230178052, 0.1042080287226453, 0.022653919287531587, 0.03171548700254422, 0.07022714979134792, 0.10534072468702188, 0.9915861838184319, 0.004721838970563962, 0.8830960843657654, 0.9990730061831395, 0.9473131821567284, 0.17149923603781875, 0.2000824420441219, 0.6262320588653685, 0.9887449832767955, 0.28592465815628104, 0.6549905289679346, 0.03345926850764991, 0.023320096232604483, 0.003041751682513628, 0.9923282915976539, 0.9958015308092966, 0.002036403948485269, 0.9930661822104345, 0.9953891439670968, 0.9969760070567573, 0.8736331223092909, 0.12360082759359743, 0.9973409453385307, 0.9760507557041357, 0.9960599389785535, 0.9618495002784946, 0.6459753960898627, 0.9940385566622163, 0.9941743092291302, 0.3836609067995654, 0.16590741915656881, 0.39403012049685093, 0.05629001721383585, 0.1122970991704758, 0.45334754850303194, 0.06405093804538249, 0.008318303642257467, 0.3618462084381998, 0.993746839080793, 0.13672891545168975, 0.33597361829146194, 0.022094976831546823, 0.49310789469934496, 0.012087252031375614, 0.4656247747172735, 0.2953198932893318, 0.23094090514514287, 0.007485928853975457, 0.7175440744223501, 0.28194977363793017, 0.047749777355769595, 0.9490268249459207, 0.9745050143144213, 0.9979987384889026, 0.9966709320231495, 0.05328226686135211, 0.05651149515597951, 0.8831939385805941, 0.006458456589254802, 0.9940145586293885, 0.018883439566157973, 0.9792412232164778, 0.6551997295106885, 0.2289418545301976, 0.7610769758706569, 0.9905994169447835, 0.7963658851486873, 0.03505494574709395, 0.157953461425141, 0.010310278160909986, 0.7960803596244601, 0.05677472332205452, 0.14687374076792364, 0.9825594750430221, 0.993585964216795, 0.7905281343012389, 0.20947515169218223, 0.9885921014874006, 0.9997485518762617, 0.999312362283657, 0.9860397986513654, 0.9900414968320385, 0.03925949462077895, 0.9553143691056212, 0.7709707012993604, 0.3474467367780407, 0.6510976663991855, 0.9361386680834457, 0.06240924453889638, 0.9726654274262727, 0.9933361562610222, 0.9960723099028598, 0.03627364544324728, 0.0021984027541361987, 0.9612516042460528, 0.9954658588351722, 0.9978032419854816, 0.9824502384637955, 0.9921217240852498, 0.9865340284004398, 0.9832381041814756, 0.9905732651812438, 0.9948267508459998, 0.9908366861661045, 0.9834801964467869, 0.9597018401811896, 0.9927951110669518, 0.6811562189666858, 0.9839136509183938, 0.011374724288073916, 0.8453120044027725, 0.2984444327384695, 0.6963703430564289, 0.8639486817613241, 0.13548286145802582, 0.998868234550346, 0.18900794926013018, 0.8079163321315368, 0.9377156832872116, 0.987559275325875, 0.01970272231293556, 0.25285160301600634, 0.7257169385264598, 0.9976070031951105, 0.9938087794208248, 0.12856802740588394, 0.866797346059024, 0.3951370313995913, 0.6050535793306242, 0.9917812741334668, 0.9963473154160044, 0.3335061706646884, 0.6299561001444114, 0.03705624118496538, 0.9948973021947846, 0.2040729722163346, 0.24572051756660696, 0.5476652213560816, 0.985449938384481, 0.9930238017836006, 0.9666246428160696, 0.03278195397268064, 0.9915999886529986, 0.996893558240964, 0.9944280165097097, 0.995711609140862, 0.9947020366657036, 0.9858554248224621, 0.47363510239762724, 0.2931060912053839, 0.23326782345065153, 0.9963930137254488, 0.915573604704496, 0.9415859119964995, 0.9759804976183384, 0.9989211297360292, 0.9842032669455838, 0.9938285329443972, 0.9201831513599066, 0.9946761983460275, 0.99403132452166, 0.007001648507738804, 0.9907332638450408, 0.19713084397261416, 0.802604150459929, 0.9980301761512277, 0.20914132918451556, 0.7886370954666108, 0.9963676613833706, 0.9923952115931685, 0.9842895759979885, 0.9188189893984292, 0.5195567901204037, 0.02956827260847826, 0.4477481280712422, 0.9959801789437672, 0.11781372453285475, 0.8377864855669671, 0.04072573193728313, 0.00290898085266308, 0.9975552036897454, 0.6976370886332766, 0.06635135353849098, 0.23507336682208232, 0.9940762142293408, 0.9477145941951765, 0.9838215743270591, 0.014991566846888519, 0.053762780185479815, 0.9094870314710335, 0.0056002896026541476, 0.03136162177486323, 0.9981377713954093, 0.9214813906876751, 0.9927426219287014, 0.9945408376857184, 0.988033283334328, 0.05086082488606838, 0.7469560360718669, 0.03590175874310709, 0.16554699864877157, 0.9434870452949009, 0.053096673544734685, 0.9876040495694078, 0.9914556069423053, 0.007665893868110608, 0.9957753377361254, 0.9951144312497973, 0.9879662110638951, 0.9402389276414407, 0.9084346785748681, 0.22160899484538332, 0.682657593316813, 0.09424750355493314, 0.2387856661428929, 0.7561546094524942, 0.07727622511567392, 0.5996635068976296, 0.3214690964812035, 0.9976994520436765, 0.9676015916962153, 0.9941689144599057, 0.9922375250179998, 0.41390321032821153, 0.4542647088497006, 0.12504150522343674, 0.006331215454351228, 0.013406932678677643, 0.9860189579136558, 0.9311553565621212, 0.050387194619162405, 0.018139390062898466, 0.996104197715638, 0.990680123998861, 0.9891282145408081, 0.012073976954756762, 0.3613568817173631, 0.017248538506795374, 0.4700226743101739, 0.13885073497970274, 0.9835736333874517, 0.9634220073072268, 0.03568229656693433, 0.9969587784882719, 0.9964987089498123, 0.9828806220877901, 0.9922347576929137, 0.21649251089163415, 0.3726763937491702, 0.39432564483833366, 0.015463750777973868, 0.9790527451140298, 0.9972726850333937, 0.987323772262932, 0.9988904372873004, 0.9971517222440993, 0.943957369614516, 0.9984605722246831, 0.9952690391576797, 0.933700570148949, 0.03781341872877364, 0.02617852065838175, 0.9960796586560263, 0.7800413763040723, 0.21821093163490124, 0.9841041274602917, 0.013051778878783709, 0.14841594125406096, 0.8506767364562031, 0.9983023028298742, 0.9979397186375475, 0.9948909252687979, 0.9406516227219727, 0.0560491899549362, 0.8285414522542156, 0.9961180751562834, 0.9551448869643013, 0.023983947811423347, 0.9692336556734024, 0.007054102297477455, 0.9859360650632975, 0.9967090532825373, 0.9887797877757322, 0.9937116308387913, 0.9925060013599097, 0.8086850533439738, 0.8975854920765395, 0.8016423242637768, 0.9916664354824873, 0.9795458863774494, 0.9843818400391832, 0.02309689962628312, 0.05389276579466062, 0.9161770185092304, 0.13526972902012285, 0.3718183320758249, 0.15330569288947257, 0.19908929348089877, 0.14012556544648624, 0.9955107884910395, 0.9277548128262454, 0.15868720467107622, 0.8367143519020382, 0.9972989454304991, 0.9958761511431925, 0.39490900358083814, 0.5963931890812657, 0.8171702240832848, 0.18011098816529542, 0.9101648292395269, 0.023578099846299105, 0.9667020936982633, 0.9833743731312762, 0.8793980843733591, 0.9896112526579243, 0.9519599271108298, 0.9965952550269361, 0.9806717002267459, 0.9793199610869746, 0.019530597514555048, 0.9954051565368061, 0.7948350046749154, 0.20274052293157263, 0.01366938418998771, 0.007360437640762613, 0.9785176097848125, 0.00021029821830750322, 0.9900551957407371, 0.9893941240106391, 0.646499480300595, 0.09723079255180453, 0.22857765266564573, 0.015352230402916504, 0.008529016890509169, 0.0907555150584409, 0.38084903640595735, 0.5153616747961466, 0.011344439382305112, 0.9830845413243604, 0.998430166905762, 0.9819168244923884, 0.9989874716599757, 0.2749503843168808, 0.181111980680642, 0.5105118090827477, 0.01930831350539893, 0.012357320643455317, 0.0015446650804319146, 0.9970642325165474, 0.9847873454716204, 0.1154768727109089, 0.881823391610577, 0.5972164352788818, 0.25755562372260876, 0.014899912116183979, 0.7258385759455338, 0.9375281962031344, 0.061433471546074335, 0.9960328626259275, 0.4433988853058565, 0.3285101053075779, 0.22798242280908412, 0.9954903877634721, 0.9967413356253518, 0.9983601390650698, 0.9139032318535109, 0.992875396856789, 0.9853437280744072, 0.9971810070192201, 0.9866971332886251, 0.06200272267642281, 0.2982657290855287, 0.073097946734309, 0.5612878052813013, 0.003915961432195125, 0.9922624336581939, 0.975101632400983, 0.023782966643926415, 0.98937460343048, 0.2735160723951711, 0.7237283685500545, 0.9825993997722728, 0.9804873313052408, 0.994922444980254, 0.9967785595629196, 0.9825494873446322, 0.9872584757442298, 0.9833194991153947, 0.904673150100543, 0.9837195466096211, 0.9960721763584884, 0.9651671829173823, 0.8427099485974205, 0.9897477828543517, 0.24503486321430784, 0.34642859971678003, 0.40810978942245063, 0.9935998807285157, 0.9929332986072845, 0.9974195910400468, 0.5300361698879857, 0.4684916857066794, 0.42683295662580467, 0.011536025854751478, 0.553729241028071, 0.9959056040779268, 0.9786986953264104, 0.1453834564265024, 0.3816851805887526, 0.16725530385349835, 0.3057770042244726, 0.9971309946212116, 0.05226744784961601, 0.7840117177442402, 0.1642691218130789, 0.8597985967584564, 0.13559547762498952, 0.9946129194538769, 0.9991336313483449, 0.9974347221365584, 0.9945499272059434, 0.996414409541862, 0.9978415361789709, 0.0883354324437085, 0.12934831179257317, 0.2949772476245266, 0.4858448784403968, 0.35126748901401394, 0.6430897106564255, 0.9840243894222139, 0.9474512008920851, 0.9279274990888263, 0.9985392144467239, 0.9977665926339776, 0.9959408197633858, 0.9912021035751788, 0.5603503554437268, 0.2922516940029782, 0.07125144605857733, 0.07487440094291177, 0.9977102702370569, 0.010956217825485285, 0.9860596042936756, 0.015770610403465873, 0.7487285034407368, 0.16746886285585189, 0.06758833030056802, 0.9588848595032547, 0.925481040119793, 0.9899219788602384, 0.9986072197483519, 0.9914975403344214, 0.9860450437294949, 0.08886279459029645, 0.9064005048210237, 0.9868698979508804, 0.8888667924000125, 0.1701835420914276, 0.04565899909770009, 0.7845046208604834, 0.9783692889676769, 0.9742719918154988, 0.6930774248321973, 0.06650742965561489, 0.2380265903464112], \"Term\": [\"absolutely\", \"access\", \"accommodate\", \"admit\", \"aircraft\", \"aircraft\", \"aircraft\", \"airline\", \"airline\", \"airline\", \"airplane\", \"airport\", \"allocate\", \"almost\", \"almost\", \"almost\", \"almost\", \"also\", \"also\", \"also\", \"also\", \"also\", \"also\", \"alternative\", \"amenity_kit\", \"ancient\", \"angle\", \"apart\", \"apart\", \"apologetic\", \"appreciated\", \"arrive\", \"ask\", \"ask\", \"ask\", \"attentive\", \"average\", \"avio\", \"awful\", \"ba\", \"ba\", \"ba\", \"ba\", \"ba\", \"back\", \"back\", \"back\", \"back\", \"bad\", \"bad\", \"bad\", \"bad\", \"bad\", \"bag\", \"baggage\", \"barbado\", \"bathroom\", \"bed\", \"big\", \"bit\", \"bit\", \"block\", \"board\", \"board\", \"board\", \"boarding\", \"boarding\", \"book\", \"brand\", \"breakfast\", \"budget\", \"business\", \"busy\", \"cabin\", \"cabin\", \"cabin\", \"call\", \"call\", \"capable\", \"care\", \"carrier\", \"carry\", \"carry\", \"case\", \"cattle\", \"certainly\", \"challenge\", \"champagne\", \"change\", \"change\", \"charge\", \"charge\", \"cheap\", \"check\", \"cheek\", \"chicken\", \"child\", \"choice\", \"choose\", \"choose\", \"choose\", \"choose\", \"class\", \"claustrophobic\", \"climb\", \"club\", \"club\", \"club\", \"club_europe\", \"club_europe\", \"coffee\", \"come\", \"come\", \"come\", \"comfortable\", \"comment\", \"companion\", \"comparison\", \"compartment\", \"complain\", \"condition\", \"configuration\", \"connection\", \"consist\", \"conversation\", \"cook\", \"cramp\", \"cream\", \"create\", \"credit_card\", \"crew\", \"crew\", \"customer\", \"customer\", \"customer\", \"day\", \"day\", \"definitely\", \"delay\", \"depart\", \"departure\", \"departure\", \"departure\", \"design\", \"difference\", \"different\", \"different\", \"different\", \"dining\", \"dinner\", \"direct\", \"direct\", \"direct\", \"direction\", \"dirty\", \"disappointment\", \"disintereste\", \"distant\", \"dollar\", \"drink\", \"due\", \"due\", \"easy\", \"easyjet\", \"eat\", \"economy\", \"economy\", \"effectively\", \"efficiency\", \"efficient\", \"efficient\", \"emirate\", \"empty\", \"enjoy\", \"enough\", \"enough\", \"enough\", \"enough\", \"entertainment\", \"especially\", \"even\", \"even\", \"even\", \"even\", \"even\", \"even\", \"ever\", \"ever\", \"ever_experience\", \"excellent\", \"exception\", \"expect\", \"expect\", \"expect\", \"expectation\", \"experience\", \"experience\", \"experience\", \"experience\", \"experience\", \"explanation\", \"extra\", \"extra\", \"face\", \"fall\", \"family\", \"far\", \"far\", \"fare\", \"fas\", \"fast\", \"female\", \"fetch\", \"film\", \"finally\", \"find\", \"find\", \"find\", \"find\", \"first\", \"first\", \"first\", \"first\", \"first\", \"fit\", \"flight\", \"flight\", \"flight\", \"flight\", \"flight\", \"fly\", \"fly\", \"fly\", \"fly\", \"food\", \"food\", \"free\", \"free\", \"freeze\", \"friendly\", \"front\", \"full\", \"full\", \"full\", \"full\", \"fully\", \"gate\", \"gate\", \"gather\", \"gatwick\", \"gatwick\", \"generally\", \"get\", \"get\", \"get\", \"get\", \"give\", \"give\", \"give\", \"glasgow\", \"glass\", \"go\", \"go\", \"gold\", \"good\", \"great\", \"guess\", \"head\", \"headphone\", \"headphone\", \"heart\", \"heathrow\", \"heathrow\", \"helpful\", \"helpful\", \"highly\", \"holiday\", \"hot\", \"hour\", \"hour\", \"hour\", \"husband\", \"ife\", \"impression\", \"improve\", \"inbound\", \"inch\", \"inflight_entertainment\", \"inform\", \"information\", \"insult\", \"jacket\", \"job\", \"kindness\", \"know\", \"know\", \"knowledge\", \"large\", \"large\", \"last\", \"last\", \"late\", \"later\", \"later\", \"lax\", \"layout\", \"leave\", \"leave\", \"leave\", \"leg\", \"leg_room\", \"legroom\", \"legroom\", \"level\", \"level\", \"limit\", \"line\", \"little\", \"little\", \"little\", \"long_haul\", \"look\", \"look\", \"look\", \"looking_forward\", \"lose\", \"lounge\", \"lounge\", \"low\", \"luggage\", \"lunch\", \"m\", \"main\", \"major\", \"make\", \"make\", \"make\", \"man\", \"manner\", \"map\", \"maybe\", \"meal\", \"mediocre\", \"menu\", \"mid\", \"middle\", \"mile\", \"min\", \"min\", \"minute\", \"minute\", \"miss\", \"money\", \"money\", \"month\", \"morning\", \"mostly\", \"mother\", \"move\", \"move\", \"move\", \"movie\", \"much\", \"much\", \"much\", \"much\", \"narrow\", \"need\", \"need\", \"need\", \"negative\", \"nervous\", \"never\", \"never\", \"new\", \"new\", \"new\", \"new\", \"nice\", \"non_existent\", \"normally\", \"notice\", \"occasion\", \"offer\", \"offer\", \"offer\", \"offer\", \"ok\", \"ok\", \"okay\", \"old\", \"old\", \"online\", \"open\", \"operate\", \"operator\", \"opt\", \"option\", \"option\", \"option\", \"other\", \"other\", \"outbound\", \"outbound\", \"outbound\", \"overall\", \"particular\", \"particularly\", \"pass\", \"passenger\", \"passenger\", \"passenger\", \"passenger\", \"pay\", \"pay\", \"people\", \"people\", \"people\", \"person\", \"pitch\", \"plan\", \"plane\", \"plane\", \"plane\", \"plane\", \"plane\", \"plastic\", \"pleasant\", \"pleasant\", \"plenty\", \"pm\", \"policy\", \"polite\", \"poor\", \"poor\", \"poor\", \"poor\", \"portion\", \"possible\", \"prefer\", \"premium\", \"pretty\", \"prevent\", \"price\", \"priority\", \"product\", \"product\", \"product\", \"professional\", \"put\", \"put\", \"quality\", \"quality\", \"queue\", \"queue\", \"quick\", \"quickly\", \"quiet\", \"quite\", \"quite\", \"rank\", \"rather\", \"realise\", \"really\", \"really\", \"really\", \"rear_face\", \"reason\", \"recent\", \"recently\", \"recline\", \"recover\", \"redeem\", \"reference\", \"regular\", \"relaxed\", \"reserve\", \"rest\", \"rest\", \"rest\", \"return\", \"return\", \"return\", \"return\", \"return\", \"review\", \"ride\", \"room\", \"room\", \"route\", \"row\", \"rude\", \"rude\", \"run\", \"run\", \"russian\", \"ryanair\", \"ryanair\", \"sadly\", \"safely\", \"salad\", \"sale\", \"sandwich\", \"save\", \"say\", \"say\", \"schedule\", \"screen\", \"screen\", \"seat\", \"seat\", \"seat\", \"seat\", \"seating\", \"section\", \"see\", \"see\", \"see\", \"see\", \"see\", \"seem\", \"seem\", \"seem\", \"seem\", \"select\", \"selection\", \"sense\", \"serve\", \"service\", \"service\", \"service\", \"service\", \"service\", \"service\", \"set\", \"share\", \"simply\", \"simply\", \"sister\", \"sit\", \"sit\", \"sit\", \"sleep\", \"sleep\", \"slightly\", \"small\", \"small\", \"small\", \"smile\", \"smooth\", \"snack\", \"somewhere\", \"soon\", \"sound\", \"space\", \"spacious\", \"staff\", \"staff\", \"staff\", \"staff\", \"staff\", \"stand\", \"standard\", \"standard\", \"stare\", \"start\", \"start\", \"steak\", \"steward\", \"stewardess\", \"stop\", \"storage_space\", \"strange\", \"stuff\", \"sugar\", \"superb\", \"sure\", \"surly\", \"sweet\", \"table\", \"take\", \"take\", \"take\", \"takeoff\", \"tasty\", \"tea\", \"tell\", \"tell\", \"terrible\", \"terrible\", \"terrible\", \"ticket\", \"tight\", \"time\", \"time\", \"time\", \"time\", \"tired\", \"together\", \"together\", \"together\", \"toilet\", \"toilet\", \"transfer\", \"travel\", \"try\", \"uncomfortable\", \"understand\", \"upgrade\", \"use\", \"use\", \"use\", \"use\", \"value\", \"value\", \"video\", \"virtually\", \"volume\", \"wait\", \"want\", \"watch\", \"water\", \"way\", \"way\", \"way\", \"way\", \"week\", \"welcome\", \"welcome\", \"well\", \"well\", \"well\", \"well\", \"well_maintaine\", \"wet\", \"wide\", \"window\", \"wonder\", \"word\", \"world\", \"world\", \"world_traveller\", \"worst\", \"worth\", \"worth\", \"worth\", \"wrap\", \"write\", \"year\", \"year\", \"year\"]}, \"R\": 30, \"lambda.step\": 0.01, \"plot.opts\": {\"xlab\": \"PC1\", \"ylab\": \"PC2\"}, \"topic.order\": [4, 2, 6, 5, 9, 3, 10, 8, 1, 7]};\n",
              "\n",
              "function LDAvis_load_lib(url, callback){\n",
              "  var s = document.createElement('script');\n",
              "  s.src = url;\n",
              "  s.async = true;\n",
              "  s.onreadystatechange = s.onload = callback;\n",
              "  s.onerror = function(){console.warn(\"failed to load library \" + url);};\n",
              "  document.getElementsByTagName(\"head\")[0].appendChild(s);\n",
              "}\n",
              "\n",
              "if(typeof(LDAvis) !== \"undefined\"){\n",
              "   // already loaded: just create the visualization\n",
              "   !function(LDAvis){\n",
              "       new LDAvis(\"#\" + \"ldavis_el11501406775064976961689197741\", ldavis_el11501406775064976961689197741_data);\n",
              "   }(LDAvis);\n",
              "}else if(typeof define === \"function\" && define.amd){\n",
              "   // require.js is available: use it to load d3/LDAvis\n",
              "   require.config({paths: {d3: \"https://d3js.org/d3.v5\"}});\n",
              "   require([\"d3\"], function(d3){\n",
              "      window.d3 = d3;\n",
              "      LDAvis_load_lib(\"https://cdn.jsdelivr.net/gh/bmabey/pyLDAvis@3.4.0/pyLDAvis/js/ldavis.v3.0.0.js\", function(){\n",
              "        new LDAvis(\"#\" + \"ldavis_el11501406775064976961689197741\", ldavis_el11501406775064976961689197741_data);\n",
              "      });\n",
              "    });\n",
              "}else{\n",
              "    // require.js not available: dynamically load d3 & LDAvis\n",
              "    LDAvis_load_lib(\"https://d3js.org/d3.v5.js\", function(){\n",
              "         LDAvis_load_lib(\"https://cdn.jsdelivr.net/gh/bmabey/pyLDAvis@3.4.0/pyLDAvis/js/ldavis.v3.0.0.js\", function(){\n",
              "                 new LDAvis(\"#\" + \"ldavis_el11501406775064976961689197741\", ldavis_el11501406775064976961689197741_data);\n",
              "            })\n",
              "         });\n",
              "}\n",
              "</script>"
            ]
          },
          "metadata": {},
          "execution_count": 188
        }
      ]
    },
    {
      "cell_type": "markdown",
      "source": [],
      "metadata": {
        "id": "vU3RGeCwg9z_"
      }
    }
  ]
}