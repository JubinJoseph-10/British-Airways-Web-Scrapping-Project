{
 "cells": [
  {
   "cell_type": "code",
   "execution_count": 56,
   "id": "a65351c0",
   "metadata": {},
   "outputs": [],
   "source": [
    "#imprting required libraries\n",
    "import pandas as pd\n",
    "import numpy as py\n",
    "from transformers import AutoTokenizer, AutoModelForSequenceClassification\n",
    "import torch\n",
    "from tqdm.notebook import tqdm\n",
    "import nltk \n",
    "from tqdm.auto import tqdm\n",
    "from tqdm._tqdm_notebook import tqdm_notebook"
   ]
  },
  {
   "cell_type": "code",
   "execution_count": 57,
   "id": "7bf2447d",
   "metadata": {},
   "outputs": [],
   "source": [
    "#importing the data file \n",
    "data=pd.read_csv('British_Airways_Comments_Data.csv')"
   ]
  },
  {
   "cell_type": "code",
   "execution_count": 58,
   "id": "123ffa8c",
   "metadata": {},
   "outputs": [],
   "source": [
    "#converting all the values in comments column to lower case\n",
    "data['comments']=data['comments'].apply(str.lower)"
   ]
  },
  {
   "cell_type": "code",
   "execution_count": 59,
   "id": "78adff28",
   "metadata": {},
   "outputs": [
    {
     "data": {
      "text/plain": [
       "3537"
      ]
     },
     "execution_count": 59,
     "metadata": {},
     "output_type": "execute_result"
    }
   ],
   "source": [
    "#Creating IDs for comments\n",
    "x=0\n",
    "ID=[]\n",
    "for i in data['comments']:\n",
    "    x=x+1\n",
    "    ID.append(x)\n",
    "len(ID)"
   ]
  },
  {
   "cell_type": "code",
   "execution_count": 60,
   "id": "269215cd",
   "metadata": {},
   "outputs": [],
   "source": [
    "#Putting the IDs and lemmatized comments in a dataframe\n",
    "data.insert(0,'Cust_ID', ID)"
   ]
  },
  {
   "cell_type": "code",
   "execution_count": 62,
   "id": "17fb9b03",
   "metadata": {},
   "outputs": [],
   "source": [
    "#using tokenizer as an instance for AutoTokenizer to convert comments to tokens\n",
    "tokenizer = AutoTokenizer.from_pretrained('nlptown/bert-base-multilingual-uncased-sentiment')\n",
    "#Using the Bert Model for sequence classification and for sentiment analysis\n",
    "#the model is already pretrained hence we can directly use the same on our data set for sentiment analysis\n",
    "model = AutoModelForSequenceClassification.from_pretrained('nlptown/bert-base-multilingual-uncased-sentiment')"
   ]
  },
  {
   "cell_type": "code",
   "execution_count": 63,
   "id": "bb29866d",
   "metadata": {},
   "outputs": [],
   "source": [
    "#Creating a function senti_score for obtaining the sentiment scores against each comment\n",
    "def senti_score (comments):\n",
    "        tokens = tokenizer.encode(comments, return_tensors='pt')\n",
    "        result=model(tokens)\n",
    "        return int(torch.argmax(result.logits))+1 "
   ]
  },
  {
   "cell_type": "code",
   "execution_count": 64,
   "id": "87c3cfd5",
   "metadata": {},
   "outputs": [
    {
     "data": {
      "application/vnd.jupyter.widget-view+json": {
       "model_id": "6c04d2e9b5a44cd6975dcbade6c84799",
       "version_major": 2,
       "version_minor": 0
      },
      "text/plain": [
       "  0%|          | 0/3537 [00:00<?, ?it/s]"
      ]
     },
     "metadata": {},
     "output_type": "display_data"
    }
   ],
   "source": [
    "#applying the function over the comments ton create a new column called sentiment\n",
    "#the following loop is computationally expensive #can consume considerable time to execute\n",
    "#set limit based on torch is 512 for the tokens that are used for analysis hence thats the limit for tokens here as weel\n",
    "data['sentiment'] = data['comments'].progress_apply(lambda x: senti_score(x[:512]))"
   ]
  },
  {
   "cell_type": "code",
   "execution_count": 74,
   "id": "04d7617f",
   "metadata": {
    "scrolled": true
   },
   "outputs": [],
   "source": [
    "data.to_csv('C:/Users/jubin/OneDrive/Desktop/Models/British_Airways_Project/Web_Scrapper/Data/Sentiment_Analysis_British_Airways.csv')"
   ]
  }
 ],
 "metadata": {
  "kernelspec": {
   "display_name": "Python 3 (ipykernel)",
   "language": "python",
   "name": "python3"
  },
  "language_info": {
   "codemirror_mode": {
    "name": "ipython",
    "version": 3
   },
   "file_extension": ".py",
   "mimetype": "text/x-python",
   "name": "python",
   "nbconvert_exporter": "python",
   "pygments_lexer": "ipython3",
   "version": "3.9.13"
  }
 },
 "nbformat": 4,
 "nbformat_minor": 5
}
